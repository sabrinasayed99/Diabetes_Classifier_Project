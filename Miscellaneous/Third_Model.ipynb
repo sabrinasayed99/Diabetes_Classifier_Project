{
 "cells": [
  {
   "cell_type": "markdown",
   "metadata": {},
   "source": [
    "# Third Model: Decision Tree Classifier with Reduced Features"
   ]
  },
  {
   "cell_type": "markdown",
   "metadata": {},
   "source": [
    "The goal of this model is to make a better Decision Tree that can more accurately predict the minority class correctly. Our biggest obstacle was high dimensionality. It was distracting both of our models from focusing on what was important. This time we will tell it what is important.\n",
    "\n",
    "### Methods:\n",
    "\n",
    "Feature Selection: I will use domain knowledge select the most important features. The feature importance method was not helpful as all the feature scores were very close to zero.\n",
    "\n",
    "Leave One Out Encoding: easier to encode the data this way because it will not create as many columns since it leaves one out, reducing dimensionality, works better with a Decision Tree and helps prevent overfitting\n",
    "\n",
    "Resampling/ Upsampling the Minority Class: to fix class imbalance\n",
    "OR SMOTE : synthesize new instances of existing dat with KNN\n"
   ]
  },
  {
   "cell_type": "code",
   "execution_count": 125,
   "metadata": {},
   "outputs": [],
   "source": [
    "import pandas as pd\n",
    "import numpy as np\n",
    "import seaborn as sns\n",
    "import matplotlib.pyplot as plt\n",
    "\n",
    "from sklearn.preprocessing import LabelEncoder\n",
    "\n",
    "from sklearn.tree import DecisionTreeClassifier, plot_tree\n",
    "from sklearn.model_selection import train_test_split\n",
    "from sklearn.metrics import accuracy_score, RocCurveDisplay, ConfusionMatrixDisplay\n",
    "from sklearn.datasets import load_iris\n",
    "\n",
    "%matplotlib inline"
   ]
  },
  {
   "cell_type": "code",
   "execution_count": 126,
   "metadata": {},
   "outputs": [],
   "source": [
    "#Load in the dataset\n",
    "diabetes_df = pd.read_csv('cleaned_diabetes_data.csv', index_col=0)"
   ]
  },
  {
   "cell_type": "code",
   "execution_count": 127,
   "metadata": {},
   "outputs": [
    {
     "data": {
      "text/plain": [
       "Index(['race', 'gender', 'age', 'admission_type_id',\n",
       "       'discharge_disposition_id', 'admission_source_id', 'time_in_hospital',\n",
       "       'payer_code', 'medical_specialty', 'num_lab_procedures',\n",
       "       'num_procedures', 'num_medications', 'number_outpatient',\n",
       "       'number_emergency', 'number_inpatient', 'diag_1', 'diag_2', 'diag_3',\n",
       "       'number_diagnoses', 'max_glu_serum', 'A1Cresult', 'metformin',\n",
       "       'repaglinide', 'nateglinide', 'chlorpropamide', 'glimepiride',\n",
       "       'acetohexamide', 'glipizide', 'glyburide', 'tolbutamide',\n",
       "       'pioglitazone', 'rosiglitazone', 'acarbose', 'miglitol', 'troglitazone',\n",
       "       'tolazamide', 'examide', 'citoglipton', 'insulin',\n",
       "       'glyburide-metformin', 'glipizide-metformin',\n",
       "       'glimepiride-pioglitazone', 'metformin-rosiglitazone',\n",
       "       'metformin-pioglitazone', 'change', 'diabetesMed', 'readmitted'],\n",
       "      dtype='object')"
      ]
     },
     "execution_count": 127,
     "metadata": {},
     "output_type": "execute_result"
    }
   ],
   "source": [
    "diabetes_df.columns"
   ]
  },
  {
   "cell_type": "markdown",
   "metadata": {},
   "source": [
    "## Feature Engineering"
   ]
  },
  {
   "cell_type": "markdown",
   "metadata": {},
   "source": [
    "Adjusting data types of categorical variables"
   ]
  },
  {
   "cell_type": "code",
   "execution_count": 128,
   "metadata": {},
   "outputs": [],
   "source": [
    "diabetes_df['admission_type_id'] = diabetes_df['admission_type_id'].astype('object')\n",
    "diabetes_df['admission_source_id'] = diabetes_df['admission_source_id'].astype('object')\n",
    "diabetes_df['discharge_disposition_id'] = diabetes_df['discharge_disposition_id'].astype('object')"
   ]
  },
  {
   "cell_type": "code",
   "execution_count": 129,
   "metadata": {},
   "outputs": [
    {
     "data": {
      "text/html": [
       "<div>\n",
       "<style scoped>\n",
       "    .dataframe tbody tr th:only-of-type {\n",
       "        vertical-align: middle;\n",
       "    }\n",
       "\n",
       "    .dataframe tbody tr th {\n",
       "        vertical-align: top;\n",
       "    }\n",
       "\n",
       "    .dataframe thead th {\n",
       "        text-align: right;\n",
       "    }\n",
       "</style>\n",
       "<table border=\"1\" class=\"dataframe\">\n",
       "  <thead>\n",
       "    <tr style=\"text-align: right;\">\n",
       "      <th></th>\n",
       "      <th>time_in_hospital</th>\n",
       "      <th>num_lab_procedures</th>\n",
       "      <th>num_procedures</th>\n",
       "      <th>num_medications</th>\n",
       "      <th>number_diagnoses</th>\n",
       "    </tr>\n",
       "  </thead>\n",
       "  <tbody>\n",
       "    <tr>\n",
       "      <th>time_in_hospital</th>\n",
       "      <td>1.000000</td>\n",
       "      <td>0.332180</td>\n",
       "      <td>0.188305</td>\n",
       "      <td>0.467897</td>\n",
       "      <td>0.233850</td>\n",
       "    </tr>\n",
       "    <tr>\n",
       "      <th>num_lab_procedures</th>\n",
       "      <td>0.332180</td>\n",
       "      <td>1.000000</td>\n",
       "      <td>0.043781</td>\n",
       "      <td>0.258975</td>\n",
       "      <td>0.153981</td>\n",
       "    </tr>\n",
       "    <tr>\n",
       "      <th>num_procedures</th>\n",
       "      <td>0.188305</td>\n",
       "      <td>0.043781</td>\n",
       "      <td>1.000000</td>\n",
       "      <td>0.400873</td>\n",
       "      <td>0.086476</td>\n",
       "    </tr>\n",
       "    <tr>\n",
       "      <th>num_medications</th>\n",
       "      <td>0.467897</td>\n",
       "      <td>0.258975</td>\n",
       "      <td>0.400873</td>\n",
       "      <td>1.000000</td>\n",
       "      <td>0.259283</td>\n",
       "    </tr>\n",
       "    <tr>\n",
       "      <th>number_diagnoses</th>\n",
       "      <td>0.233850</td>\n",
       "      <td>0.153981</td>\n",
       "      <td>0.086476</td>\n",
       "      <td>0.259283</td>\n",
       "      <td>1.000000</td>\n",
       "    </tr>\n",
       "  </tbody>\n",
       "</table>\n",
       "</div>"
      ],
      "text/plain": [
       "                    time_in_hospital  num_lab_procedures  num_procedures  \\\n",
       "time_in_hospital            1.000000            0.332180        0.188305   \n",
       "num_lab_procedures          0.332180            1.000000        0.043781   \n",
       "num_procedures              0.188305            0.043781        1.000000   \n",
       "num_medications             0.467897            0.258975        0.400873   \n",
       "number_diagnoses            0.233850            0.153981        0.086476   \n",
       "\n",
       "                    num_medications  number_diagnoses  \n",
       "time_in_hospital           0.467897          0.233850  \n",
       "num_lab_procedures         0.258975          0.153981  \n",
       "num_procedures             0.400873          0.086476  \n",
       "num_medications            1.000000          0.259283  \n",
       "number_diagnoses           0.259283          1.000000  "
      ]
     },
     "execution_count": 129,
     "metadata": {},
     "output_type": "execute_result"
    }
   ],
   "source": [
    "diabetes_df[['time_in_hospital','num_lab_procedures',\n",
    "       'num_procedures', 'num_medications','number_diagnoses']].corr()"
   ]
  },
  {
   "cell_type": "code",
   "execution_count": 130,
   "metadata": {},
   "outputs": [],
   "source": [
    "diabetes_df['age'] = diabetes_df['age'].str.strip('[)')"
   ]
  },
  {
   "cell_type": "code",
   "execution_count": 131,
   "metadata": {},
   "outputs": [
    {
     "data": {
      "text/plain": [
       "readmitted\n",
       "Otherwise    63696\n",
       "<30           6277\n",
       "Name: count, dtype: int64"
      ]
     },
     "execution_count": 131,
     "metadata": {},
     "output_type": "execute_result"
    }
   ],
   "source": [
    "diabetes_df['readmitted'].value_counts()"
   ]
  },
  {
   "cell_type": "code",
   "execution_count": 132,
   "metadata": {},
   "outputs": [
    {
     "data": {
      "text/plain": [
       "race             gender           age    admission_type_id  discharge_disposition_id  admission_source_id  time_in_hospital  payer_code  medical_specialty         num_lab_procedures  num_procedures  num_medications  number_outpatient  number_emergency  number_inpatient  diag_1  diag_2   diag_3   number_diagnoses  max_glu_serum  A1Cresult  metformin  repaglinide  nateglinide  chlorpropamide  glimepiride  acetohexamide  glipizide  glyburide  tolbutamide  pioglitazone  rosiglitazone  acarbose  miglitol  troglitazone  tolazamide  examide  citoglipton  insulin  glyburide-metformin  glipizide-metformin  glimepiride-pioglitazone  metformin-rosiglitazone  metformin-pioglitazone  change  diabetesMed  readmitted\n",
       "AfricanAmerican  Female           0-10   1                  1                         4                    2                 Unknown     Pediatrics-Endocrinology  46                  0               2                0                  0                 0                 250.03  Unknown  Unknown  1                 Missing        >8         No         No           No           No              No           No             No         No         No           No            No             No        No        No            No          No       No           Steady   No                   No                   No                        No                       No                      No      Yes          Otherwise     1\n",
       "Caucasian        Male             50-60  3                  1                         1                    1                 Unknown     Cardiology                10                  5               10               0                  0                 0                 414     250.51   362      7                 Missing        Missing    No         No           No           No              No           No             No         No         No           No            No             No        No        No            No          No       No           Steady   No                   No                   No                        No                       No                      No      Yes          Otherwise     1\n",
       "                                                                                                                                                                   29                  3               15               0                  0                 0                 414     786      401      6                 Missing        Missing    No         No           No           No              No           No             No         No         No           No            No             No        No        No            No          No       No           No       No                   No                   No                        No                       No                      No      No           Otherwise     1\n",
       "                                                                                                                                                                                                       13               0                  0                 0                 414     426      794      7                 Missing        Missing    Steady     No           No           No              No           No             No         No         No           Steady        No             No        No        No            No          No       No           No       No                   No                   No                        No                       No                      Ch      Yes          Otherwise     1\n",
       "                                                                                                                                                                                                       11               0                  0                 0                 250.8   414      411      6                 Missing        Missing    No         No           No           No              No           No             No         No         No           No            Steady         No        No        No            No          No       No           No       No                   No                   No                        No                       No                      No      Yes          Otherwise     1\n",
       "                                                                                                                                                                                                                                                                                                                                                                                                                                                                                                                                                                                                                                                                                                                                          ..\n",
       "                 Female           60-70  2                  1                         1                    4                 Unknown     Unknown                   60                  3               11               0                  1                 0                 584     599      403      9                 Missing        >8         No         No           No           No              No           No             No         No         No           No            No             No        No        No            No          No       No           Up       No                   No                   No                        No                       No                      Ch      Yes          within30      1\n",
       "                                                                                                                                                                   63                  1               11               0                  0                 0                 415     453      444      9                 Missing        Missing    No         No           No           No              No           No             No         No         No           No            No             No        No        No            No          No       No           Steady   No                   No                   No                        No                       No                      No      Yes          Otherwise     1\n",
       "                                                                                                           5                 BC          Unknown                   54                  3               15               3                  0                 0                 428     427      250      5                 Missing        >7         Steady     No           No           No              No           No             No         Steady     No           No            No             No        No        No            No          No       No           No       No                   No                   No                        No                       No                      Ch      Yes          Otherwise     1\n",
       "                                                                                                                             CP          Unknown                   59                  1               18               0                  0                 0                 682     250.02   493      5                 Missing        >8         No         No           No           No              No           No             No         No         No           No            No             No        No        No            No          No       No           Steady   No                   No                   No                        No                       No                      No      Yes          Otherwise     1\n",
       "Unknown          Unknown/Invalid  70-80  1                  22                        7                    8                 CP          Unknown                   59                  2               21               0                  0                 0                 850     805      808      9                 Missing        Missing    Steady     No           No           No              No           No             No         No         No           No            Steady         No        No        No            No          No       No           No       No                   No                   No                        No                       No                      Ch      Yes          Otherwise     1\n",
       "Name: count, Length: 69973, dtype: int64"
      ]
     },
     "execution_count": 132,
     "metadata": {},
     "output_type": "execute_result"
    }
   ],
   "source": [
    "diabetes_df['readmitted'] = diabetes_df['readmitted'].replace(to_replace='<30', value = 'within30')\n",
    "diabetes_df.value_counts()"
   ]
  },
  {
   "cell_type": "code",
   "execution_count": 133,
   "metadata": {},
   "outputs": [],
   "source": [
    "diabetes_df['readmitted'] = diabetes_df['readmitted'].astype('object')"
   ]
  },
  {
   "cell_type": "code",
   "execution_count": 134,
   "metadata": {},
   "outputs": [],
   "source": [
    "# This function, replace_age_ranges, takes a feature (presumably containing age ranges) as input and 'values' represents corresponding numerical values assigned to each age range.\n",
    "\n",
    "def replace_age_ranges(feature):\n",
    "  age_ranges = ['0-10', '10-20', '20-30', '30-40', '40-50', '50-60','60-70', '70-80', '80-90', '90-100']\n",
    "  values = [1, 2, 3, 4, 5, 6, 7, 8, 9, 10]\n",
    "  \n",
    "  # The function iterates through the age_ranges and replaces each occurrence in the 'feature' with the corresponding numerical value.\n",
    "  for i, age_range in enumerate(age_ranges):\n",
    "    feature = feature.replace(age_range, values[i])\n",
    "\n",
    "  return feature"
   ]
  },
  {
   "cell_type": "code",
   "execution_count": 135,
   "metadata": {},
   "outputs": [
    {
     "name": "stderr",
     "output_type": "stream",
     "text": [
      "/var/folders/rj/3yvmqxnj3d17zpgh8wpywxvr0000gn/T/ipykernel_10747/1794585803.py:9: FutureWarning: Downcasting behavior in `replace` is deprecated and will be removed in a future version. To retain the old behavior, explicitly call `result.infer_objects(copy=False)`. To opt-in to the future behavior, set `pd.set_option('future.no_silent_downcasting', True)`\n",
      "  feature = feature.replace(age_range, values[i])\n"
     ]
    }
   ],
   "source": [
    "diabetes_df['age']= replace_age_ranges(diabetes_df['age'])"
   ]
  },
  {
   "cell_type": "code",
   "execution_count": 136,
   "metadata": {},
   "outputs": [],
   "source": [
    "diabetes_df['age'] =diabetes_df['age'].astype('object')"
   ]
  },
  {
   "cell_type": "markdown",
   "metadata": {},
   "source": [
    "### Creating the A1Cmeasurement column: \n",
    "\n",
    "I want to see the effect of whether not A1C is measured has some impact on the target variable"
   ]
  },
  {
   "cell_type": "code",
   "execution_count": 137,
   "metadata": {},
   "outputs": [
    {
     "data": {
      "text/plain": [
       "A1Cresult\n",
       "Missing    57128\n",
       ">8          6239\n",
       "Norm        3741\n",
       ">7          2865\n",
       "Name: count, dtype: int64"
      ]
     },
     "execution_count": 137,
     "metadata": {},
     "output_type": "execute_result"
    }
   ],
   "source": [
    "diabetes_df['A1Cresult'].value_counts()"
   ]
  },
  {
   "cell_type": "code",
   "execution_count": 138,
   "metadata": {},
   "outputs": [],
   "source": [
    "temp_table = diabetes_df['A1Cresult'].replace(to_replace=['>8','>7','Norm'], value='Yes')"
   ]
  },
  {
   "cell_type": "code",
   "execution_count": 139,
   "metadata": {},
   "outputs": [
    {
     "data": {
      "text/plain": [
       "0         Missing\n",
       "1         Missing\n",
       "2         Missing\n",
       "3         Missing\n",
       "4         Missing\n",
       "           ...   \n",
       "101754        Yes\n",
       "101755        Yes\n",
       "101756    Missing\n",
       "101758    Missing\n",
       "101765    Missing\n",
       "Name: A1Cresult, Length: 69973, dtype: object"
      ]
     },
     "execution_count": 139,
     "metadata": {},
     "output_type": "execute_result"
    }
   ],
   "source": [
    "temp_table"
   ]
  },
  {
   "cell_type": "code",
   "execution_count": 140,
   "metadata": {},
   "outputs": [],
   "source": [
    "A1Cmeasurement = temp_table.replace(to_replace='Missing', value='No')\n"
   ]
  },
  {
   "cell_type": "code",
   "execution_count": 141,
   "metadata": {},
   "outputs": [],
   "source": [
    "A1Cmeasurement = A1Cmeasurement.rename('A1Cmeasurement')"
   ]
  },
  {
   "cell_type": "code",
   "execution_count": 142,
   "metadata": {},
   "outputs": [
    {
     "data": {
      "text/plain": [
       "0          No\n",
       "1          No\n",
       "2          No\n",
       "3          No\n",
       "4          No\n",
       "         ... \n",
       "101754    Yes\n",
       "101755    Yes\n",
       "101756     No\n",
       "101758     No\n",
       "101765     No\n",
       "Name: A1Cmeasurement, Length: 69973, dtype: object"
      ]
     },
     "execution_count": 142,
     "metadata": {},
     "output_type": "execute_result"
    }
   ],
   "source": [
    "A1Cmeasurement"
   ]
  },
  {
   "cell_type": "code",
   "execution_count": 143,
   "metadata": {},
   "outputs": [],
   "source": [
    "diabetes_df = diabetes_df.join(A1Cmeasurement, how='left')"
   ]
  },
  {
   "cell_type": "code",
   "execution_count": 144,
   "metadata": {},
   "outputs": [
    {
     "data": {
      "text/plain": [
       "race                        object\n",
       "gender                      object\n",
       "age                         object\n",
       "admission_type_id           object\n",
       "discharge_disposition_id    object\n",
       "admission_source_id         object\n",
       "time_in_hospital             int64\n",
       "payer_code                  object\n",
       "medical_specialty           object\n",
       "num_lab_procedures           int64\n",
       "num_procedures               int64\n",
       "num_medications              int64\n",
       "number_outpatient            int64\n",
       "number_emergency             int64\n",
       "number_inpatient             int64\n",
       "diag_1                      object\n",
       "diag_2                      object\n",
       "diag_3                      object\n",
       "number_diagnoses             int64\n",
       "max_glu_serum               object\n",
       "A1Cresult                   object\n",
       "metformin                   object\n",
       "repaglinide                 object\n",
       "nateglinide                 object\n",
       "chlorpropamide              object\n",
       "glimepiride                 object\n",
       "acetohexamide               object\n",
       "glipizide                   object\n",
       "glyburide                   object\n",
       "tolbutamide                 object\n",
       "pioglitazone                object\n",
       "rosiglitazone               object\n",
       "acarbose                    object\n",
       "miglitol                    object\n",
       "troglitazone                object\n",
       "tolazamide                  object\n",
       "examide                     object\n",
       "citoglipton                 object\n",
       "insulin                     object\n",
       "glyburide-metformin         object\n",
       "glipizide-metformin         object\n",
       "glimepiride-pioglitazone    object\n",
       "metformin-rosiglitazone     object\n",
       "metformin-pioglitazone      object\n",
       "change                      object\n",
       "diabetesMed                 object\n",
       "readmitted                  object\n",
       "A1Cmeasurement              object\n",
       "dtype: object"
      ]
     },
     "execution_count": 144,
     "metadata": {},
     "output_type": "execute_result"
    }
   ],
   "source": [
    "diabetes_df.dtypes"
   ]
  },
  {
   "cell_type": "code",
   "execution_count": 145,
   "metadata": {},
   "outputs": [
    {
     "data": {
      "text/plain": [
       "max_glu_serum\n",
       "Missing    66625\n",
       "Norm        1700\n",
       ">200         936\n",
       ">300         712\n",
       "Name: count, dtype: int64"
      ]
     },
     "execution_count": 145,
     "metadata": {},
     "output_type": "execute_result"
    }
   ],
   "source": [
    "diabetes_df['max_glu_serum'].value_counts()"
   ]
  },
  {
   "cell_type": "code",
   "execution_count": 146,
   "metadata": {},
   "outputs": [],
   "source": [
    "temp_table_2 = diabetes_df['max_glu_serum'].replace(to_replace=['>200','>300','Norm'], value='Yes')"
   ]
  },
  {
   "cell_type": "code",
   "execution_count": 147,
   "metadata": {},
   "outputs": [],
   "source": [
    "Glucose_Measured = temp_table_2.replace(to_replace='Missing', value='No')"
   ]
  },
  {
   "cell_type": "code",
   "execution_count": 148,
   "metadata": {},
   "outputs": [],
   "source": [
    "Glucose_Measured = Glucose_Measured.rename('Glucose_Measured')"
   ]
  },
  {
   "cell_type": "code",
   "execution_count": 149,
   "metadata": {},
   "outputs": [
    {
     "data": {
      "text/html": [
       "<div>\n",
       "<style scoped>\n",
       "    .dataframe tbody tr th:only-of-type {\n",
       "        vertical-align: middle;\n",
       "    }\n",
       "\n",
       "    .dataframe tbody tr th {\n",
       "        vertical-align: top;\n",
       "    }\n",
       "\n",
       "    .dataframe thead th {\n",
       "        text-align: right;\n",
       "    }\n",
       "</style>\n",
       "<table border=\"1\" class=\"dataframe\">\n",
       "  <thead>\n",
       "    <tr style=\"text-align: right;\">\n",
       "      <th></th>\n",
       "      <th>race</th>\n",
       "      <th>gender</th>\n",
       "      <th>age</th>\n",
       "      <th>admission_type_id</th>\n",
       "      <th>discharge_disposition_id</th>\n",
       "      <th>admission_source_id</th>\n",
       "      <th>time_in_hospital</th>\n",
       "      <th>payer_code</th>\n",
       "      <th>medical_specialty</th>\n",
       "      <th>num_lab_procedures</th>\n",
       "      <th>...</th>\n",
       "      <th>glyburide-metformin</th>\n",
       "      <th>glipizide-metformin</th>\n",
       "      <th>glimepiride-pioglitazone</th>\n",
       "      <th>metformin-rosiglitazone</th>\n",
       "      <th>metformin-pioglitazone</th>\n",
       "      <th>change</th>\n",
       "      <th>diabetesMed</th>\n",
       "      <th>readmitted</th>\n",
       "      <th>A1Cmeasurement</th>\n",
       "      <th>Glucose_Measured</th>\n",
       "    </tr>\n",
       "  </thead>\n",
       "  <tbody>\n",
       "    <tr>\n",
       "      <th>0</th>\n",
       "      <td>Caucasian</td>\n",
       "      <td>Female</td>\n",
       "      <td>1</td>\n",
       "      <td>6</td>\n",
       "      <td>25</td>\n",
       "      <td>1</td>\n",
       "      <td>1</td>\n",
       "      <td>Unknown</td>\n",
       "      <td>Pediatrics-Endocrinology</td>\n",
       "      <td>41</td>\n",
       "      <td>...</td>\n",
       "      <td>No</td>\n",
       "      <td>No</td>\n",
       "      <td>No</td>\n",
       "      <td>No</td>\n",
       "      <td>No</td>\n",
       "      <td>No</td>\n",
       "      <td>No</td>\n",
       "      <td>Otherwise</td>\n",
       "      <td>No</td>\n",
       "      <td>No</td>\n",
       "    </tr>\n",
       "    <tr>\n",
       "      <th>1</th>\n",
       "      <td>Caucasian</td>\n",
       "      <td>Female</td>\n",
       "      <td>2</td>\n",
       "      <td>1</td>\n",
       "      <td>1</td>\n",
       "      <td>7</td>\n",
       "      <td>3</td>\n",
       "      <td>Unknown</td>\n",
       "      <td>Unknown</td>\n",
       "      <td>59</td>\n",
       "      <td>...</td>\n",
       "      <td>No</td>\n",
       "      <td>No</td>\n",
       "      <td>No</td>\n",
       "      <td>No</td>\n",
       "      <td>No</td>\n",
       "      <td>Ch</td>\n",
       "      <td>Yes</td>\n",
       "      <td>Otherwise</td>\n",
       "      <td>No</td>\n",
       "      <td>No</td>\n",
       "    </tr>\n",
       "    <tr>\n",
       "      <th>2</th>\n",
       "      <td>AfricanAmerican</td>\n",
       "      <td>Female</td>\n",
       "      <td>3</td>\n",
       "      <td>1</td>\n",
       "      <td>1</td>\n",
       "      <td>7</td>\n",
       "      <td>2</td>\n",
       "      <td>Unknown</td>\n",
       "      <td>Unknown</td>\n",
       "      <td>11</td>\n",
       "      <td>...</td>\n",
       "      <td>No</td>\n",
       "      <td>No</td>\n",
       "      <td>No</td>\n",
       "      <td>No</td>\n",
       "      <td>No</td>\n",
       "      <td>No</td>\n",
       "      <td>Yes</td>\n",
       "      <td>Otherwise</td>\n",
       "      <td>No</td>\n",
       "      <td>No</td>\n",
       "    </tr>\n",
       "    <tr>\n",
       "      <th>3</th>\n",
       "      <td>Caucasian</td>\n",
       "      <td>Male</td>\n",
       "      <td>4</td>\n",
       "      <td>1</td>\n",
       "      <td>1</td>\n",
       "      <td>7</td>\n",
       "      <td>2</td>\n",
       "      <td>Unknown</td>\n",
       "      <td>Unknown</td>\n",
       "      <td>44</td>\n",
       "      <td>...</td>\n",
       "      <td>No</td>\n",
       "      <td>No</td>\n",
       "      <td>No</td>\n",
       "      <td>No</td>\n",
       "      <td>No</td>\n",
       "      <td>Ch</td>\n",
       "      <td>Yes</td>\n",
       "      <td>Otherwise</td>\n",
       "      <td>No</td>\n",
       "      <td>No</td>\n",
       "    </tr>\n",
       "    <tr>\n",
       "      <th>4</th>\n",
       "      <td>Caucasian</td>\n",
       "      <td>Male</td>\n",
       "      <td>5</td>\n",
       "      <td>1</td>\n",
       "      <td>1</td>\n",
       "      <td>7</td>\n",
       "      <td>1</td>\n",
       "      <td>Unknown</td>\n",
       "      <td>Unknown</td>\n",
       "      <td>51</td>\n",
       "      <td>...</td>\n",
       "      <td>No</td>\n",
       "      <td>No</td>\n",
       "      <td>No</td>\n",
       "      <td>No</td>\n",
       "      <td>No</td>\n",
       "      <td>Ch</td>\n",
       "      <td>Yes</td>\n",
       "      <td>Otherwise</td>\n",
       "      <td>No</td>\n",
       "      <td>No</td>\n",
       "    </tr>\n",
       "    <tr>\n",
       "      <th>...</th>\n",
       "      <td>...</td>\n",
       "      <td>...</td>\n",
       "      <td>...</td>\n",
       "      <td>...</td>\n",
       "      <td>...</td>\n",
       "      <td>...</td>\n",
       "      <td>...</td>\n",
       "      <td>...</td>\n",
       "      <td>...</td>\n",
       "      <td>...</td>\n",
       "      <td>...</td>\n",
       "      <td>...</td>\n",
       "      <td>...</td>\n",
       "      <td>...</td>\n",
       "      <td>...</td>\n",
       "      <td>...</td>\n",
       "      <td>...</td>\n",
       "      <td>...</td>\n",
       "      <td>...</td>\n",
       "      <td>...</td>\n",
       "      <td>...</td>\n",
       "    </tr>\n",
       "    <tr>\n",
       "      <th>101754</th>\n",
       "      <td>Caucasian</td>\n",
       "      <td>Female</td>\n",
       "      <td>8</td>\n",
       "      <td>1</td>\n",
       "      <td>1</td>\n",
       "      <td>7</td>\n",
       "      <td>9</td>\n",
       "      <td>Unknown</td>\n",
       "      <td>Unknown</td>\n",
       "      <td>50</td>\n",
       "      <td>...</td>\n",
       "      <td>No</td>\n",
       "      <td>No</td>\n",
       "      <td>No</td>\n",
       "      <td>No</td>\n",
       "      <td>No</td>\n",
       "      <td>Ch</td>\n",
       "      <td>Yes</td>\n",
       "      <td>Otherwise</td>\n",
       "      <td>Yes</td>\n",
       "      <td>No</td>\n",
       "    </tr>\n",
       "    <tr>\n",
       "      <th>101755</th>\n",
       "      <td>Other</td>\n",
       "      <td>Female</td>\n",
       "      <td>5</td>\n",
       "      <td>1</td>\n",
       "      <td>1</td>\n",
       "      <td>7</td>\n",
       "      <td>14</td>\n",
       "      <td>MD</td>\n",
       "      <td>Unknown</td>\n",
       "      <td>73</td>\n",
       "      <td>...</td>\n",
       "      <td>No</td>\n",
       "      <td>No</td>\n",
       "      <td>No</td>\n",
       "      <td>No</td>\n",
       "      <td>No</td>\n",
       "      <td>Ch</td>\n",
       "      <td>Yes</td>\n",
       "      <td>Otherwise</td>\n",
       "      <td>Yes</td>\n",
       "      <td>No</td>\n",
       "    </tr>\n",
       "    <tr>\n",
       "      <th>101756</th>\n",
       "      <td>Other</td>\n",
       "      <td>Female</td>\n",
       "      <td>7</td>\n",
       "      <td>1</td>\n",
       "      <td>1</td>\n",
       "      <td>7</td>\n",
       "      <td>2</td>\n",
       "      <td>MD</td>\n",
       "      <td>Unknown</td>\n",
       "      <td>46</td>\n",
       "      <td>...</td>\n",
       "      <td>No</td>\n",
       "      <td>No</td>\n",
       "      <td>No</td>\n",
       "      <td>No</td>\n",
       "      <td>No</td>\n",
       "      <td>No</td>\n",
       "      <td>Yes</td>\n",
       "      <td>Otherwise</td>\n",
       "      <td>No</td>\n",
       "      <td>No</td>\n",
       "    </tr>\n",
       "    <tr>\n",
       "      <th>101758</th>\n",
       "      <td>Caucasian</td>\n",
       "      <td>Female</td>\n",
       "      <td>9</td>\n",
       "      <td>1</td>\n",
       "      <td>1</td>\n",
       "      <td>7</td>\n",
       "      <td>5</td>\n",
       "      <td>MC</td>\n",
       "      <td>Unknown</td>\n",
       "      <td>76</td>\n",
       "      <td>...</td>\n",
       "      <td>No</td>\n",
       "      <td>No</td>\n",
       "      <td>No</td>\n",
       "      <td>No</td>\n",
       "      <td>No</td>\n",
       "      <td>Ch</td>\n",
       "      <td>Yes</td>\n",
       "      <td>Otherwise</td>\n",
       "      <td>No</td>\n",
       "      <td>No</td>\n",
       "    </tr>\n",
       "    <tr>\n",
       "      <th>101765</th>\n",
       "      <td>Caucasian</td>\n",
       "      <td>Male</td>\n",
       "      <td>8</td>\n",
       "      <td>1</td>\n",
       "      <td>1</td>\n",
       "      <td>7</td>\n",
       "      <td>6</td>\n",
       "      <td>Unknown</td>\n",
       "      <td>Unknown</td>\n",
       "      <td>13</td>\n",
       "      <td>...</td>\n",
       "      <td>No</td>\n",
       "      <td>No</td>\n",
       "      <td>No</td>\n",
       "      <td>No</td>\n",
       "      <td>No</td>\n",
       "      <td>No</td>\n",
       "      <td>No</td>\n",
       "      <td>Otherwise</td>\n",
       "      <td>No</td>\n",
       "      <td>No</td>\n",
       "    </tr>\n",
       "  </tbody>\n",
       "</table>\n",
       "<p>69973 rows × 49 columns</p>\n",
       "</div>"
      ],
      "text/plain": [
       "                   race  gender age admission_type_id  \\\n",
       "0             Caucasian  Female   1                 6   \n",
       "1             Caucasian  Female   2                 1   \n",
       "2       AfricanAmerican  Female   3                 1   \n",
       "3             Caucasian    Male   4                 1   \n",
       "4             Caucasian    Male   5                 1   \n",
       "...                 ...     ...  ..               ...   \n",
       "101754        Caucasian  Female   8                 1   \n",
       "101755            Other  Female   5                 1   \n",
       "101756            Other  Female   7                 1   \n",
       "101758        Caucasian  Female   9                 1   \n",
       "101765        Caucasian    Male   8                 1   \n",
       "\n",
       "       discharge_disposition_id admission_source_id  time_in_hospital  \\\n",
       "0                            25                   1                 1   \n",
       "1                             1                   7                 3   \n",
       "2                             1                   7                 2   \n",
       "3                             1                   7                 2   \n",
       "4                             1                   7                 1   \n",
       "...                         ...                 ...               ...   \n",
       "101754                        1                   7                 9   \n",
       "101755                        1                   7                14   \n",
       "101756                        1                   7                 2   \n",
       "101758                        1                   7                 5   \n",
       "101765                        1                   7                 6   \n",
       "\n",
       "       payer_code         medical_specialty  num_lab_procedures  ...  \\\n",
       "0         Unknown  Pediatrics-Endocrinology                  41  ...   \n",
       "1         Unknown                   Unknown                  59  ...   \n",
       "2         Unknown                   Unknown                  11  ...   \n",
       "3         Unknown                   Unknown                  44  ...   \n",
       "4         Unknown                   Unknown                  51  ...   \n",
       "...           ...                       ...                 ...  ...   \n",
       "101754    Unknown                   Unknown                  50  ...   \n",
       "101755         MD                   Unknown                  73  ...   \n",
       "101756         MD                   Unknown                  46  ...   \n",
       "101758         MC                   Unknown                  76  ...   \n",
       "101765    Unknown                   Unknown                  13  ...   \n",
       "\n",
       "        glyburide-metformin  glipizide-metformin  glimepiride-pioglitazone  \\\n",
       "0                        No                   No                        No   \n",
       "1                        No                   No                        No   \n",
       "2                        No                   No                        No   \n",
       "3                        No                   No                        No   \n",
       "4                        No                   No                        No   \n",
       "...                     ...                  ...                       ...   \n",
       "101754                   No                   No                        No   \n",
       "101755                   No                   No                        No   \n",
       "101756                   No                   No                        No   \n",
       "101758                   No                   No                        No   \n",
       "101765                   No                   No                        No   \n",
       "\n",
       "        metformin-rosiglitazone  metformin-pioglitazone change diabetesMed  \\\n",
       "0                            No                      No     No          No   \n",
       "1                            No                      No     Ch         Yes   \n",
       "2                            No                      No     No         Yes   \n",
       "3                            No                      No     Ch         Yes   \n",
       "4                            No                      No     Ch         Yes   \n",
       "...                         ...                     ...    ...         ...   \n",
       "101754                       No                      No     Ch         Yes   \n",
       "101755                       No                      No     Ch         Yes   \n",
       "101756                       No                      No     No         Yes   \n",
       "101758                       No                      No     Ch         Yes   \n",
       "101765                       No                      No     No          No   \n",
       "\n",
       "       readmitted  A1Cmeasurement Glucose_Measured  \n",
       "0       Otherwise              No               No  \n",
       "1       Otherwise              No               No  \n",
       "2       Otherwise              No               No  \n",
       "3       Otherwise              No               No  \n",
       "4       Otherwise              No               No  \n",
       "...           ...             ...              ...  \n",
       "101754  Otherwise             Yes               No  \n",
       "101755  Otherwise             Yes               No  \n",
       "101756  Otherwise              No               No  \n",
       "101758  Otherwise              No               No  \n",
       "101765  Otherwise              No               No  \n",
       "\n",
       "[69973 rows x 49 columns]"
      ]
     },
     "execution_count": 149,
     "metadata": {},
     "output_type": "execute_result"
    }
   ],
   "source": [
    "diabetes_df = diabetes_df.join(Glucose_Measured, how='left')\n",
    "diabetes_df"
   ]
  },
  {
   "cell_type": "code",
   "execution_count": 150,
   "metadata": {},
   "outputs": [
    {
     "data": {
      "text/plain": [
       "race   gender  age    admission_type_id  discharge_disposition_id  admission_source_id  time_in_hospital  payer_code  medical_specialty  num_lab_procedures  num_procedures  num_medications  number_outpatient  number_emergency  number_inpatient  diag_1  diag_2  diag_3  number_diagnoses  max_glu_serum  A1Cresult  metformin  repaglinide  nateglinide  chlorpropamide  glimepiride  acetohexamide  glipizide  glyburide  tolbutamide  pioglitazone  rosiglitazone  acarbose  miglitol  troglitazone  tolazamide  examide  citoglipton  insulin  glyburide-metformin  glipizide-metformin  glimepiride-pioglitazone  metformin-rosiglitazone  metformin-pioglitazone  change  diabetesMed  readmitted  A1Cmeasurement  Glucose_Measured\n",
       "False  False   False  False              False                     False                False             False       False              False               False           False            False              False             False             False   False   False   False             False          False      False      False        False        False           False        False          False      False      False        False         False          False     False     False         False       False    False        False    False                False                False                     False                    False                   False   False        False       False           False               69973\n",
       "Name: count, dtype: int64"
      ]
     },
     "execution_count": 150,
     "metadata": {},
     "output_type": "execute_result"
    }
   ],
   "source": [
    "diabetes_df.isna().value_counts()"
   ]
  },
  {
   "cell_type": "markdown",
   "metadata": {},
   "source": [
    "So we created 2 new columns to signify whether or not glucose and Hemoglobin A1C were measured during the patient's visit. If these are statistically significant variables, we will be able to use them as predictors for our model"
   ]
  },
  {
   "cell_type": "code",
   "execution_count": 83,
   "metadata": {},
   "outputs": [
    {
     "data": {
      "text/plain": [
       "(6.355505830669562,\n",
       " 0.011701757602602945,\n",
       " 1,\n",
       " array([[52003.27394852,  5124.72605148],\n",
       "        [11692.72605148,  1152.27394852]]))"
      ]
     },
     "execution_count": 83,
     "metadata": {},
     "output_type": "execute_result"
    }
   ],
   "source": [
    "import pandas as pd\n",
    "from scipy.stats import chi2_contingency\n",
    "\n",
    "# Create a contingency table to \n",
    "contingency_table = pd.crosstab(diabetes_df['A1Cmeasurement'], diabetes_df['readmitted'])\n",
    "\n",
    "# Perform the Chi-Square test\n",
    "chi2, p, dof, expected = chi2_contingency(contingency_table)\n",
    "chi2, p, dof, expected \n"
   ]
  },
  {
   "cell_type": "markdown",
   "metadata": {},
   "source": [
    "The p-value of is .01, which is less than alpha .05. We can reject the null and say that this is in fact a statistically significant variable for our target."
   ]
  },
  {
   "cell_type": "code",
   "execution_count": 84,
   "metadata": {},
   "outputs": [
    {
     "data": {
      "text/html": [
       "<div>\n",
       "<style scoped>\n",
       "    .dataframe tbody tr th:only-of-type {\n",
       "        vertical-align: middle;\n",
       "    }\n",
       "\n",
       "    .dataframe tbody tr th {\n",
       "        vertical-align: top;\n",
       "    }\n",
       "\n",
       "    .dataframe thead th {\n",
       "        text-align: right;\n",
       "    }\n",
       "</style>\n",
       "<table border=\"1\" class=\"dataframe\">\n",
       "  <thead>\n",
       "    <tr style=\"text-align: right;\">\n",
       "      <th>readmitted</th>\n",
       "      <th>Otherwise</th>\n",
       "      <th>within30</th>\n",
       "    </tr>\n",
       "    <tr>\n",
       "      <th>A1Cmeasurement</th>\n",
       "      <th></th>\n",
       "      <th></th>\n",
       "    </tr>\n",
       "  </thead>\n",
       "  <tbody>\n",
       "    <tr>\n",
       "      <th>No</th>\n",
       "      <td>51929</td>\n",
       "      <td>5199</td>\n",
       "    </tr>\n",
       "    <tr>\n",
       "      <th>Yes</th>\n",
       "      <td>11767</td>\n",
       "      <td>1078</td>\n",
       "    </tr>\n",
       "  </tbody>\n",
       "</table>\n",
       "</div>"
      ],
      "text/plain": [
       "readmitted      Otherwise  within30\n",
       "A1Cmeasurement                     \n",
       "No                  51929      5199\n",
       "Yes                 11767      1078"
      ]
     },
     "execution_count": 84,
     "metadata": {},
     "output_type": "execute_result"
    }
   ],
   "source": [
    "contingency_table"
   ]
  },
  {
   "cell_type": "code",
   "execution_count": 85,
   "metadata": {},
   "outputs": [
    {
     "data": {
      "text/plain": [
       "(7.260008315545734,\n",
       " 0.06405633904985746,\n",
       " 3,\n",
       " array([[ 2607.99222557,   257.00777443],\n",
       "        [ 5679.32408215,   559.67591785],\n",
       "        [52003.27394852,  5124.72605148],\n",
       "        [ 3405.40974376,   335.59025624]]))"
      ]
     },
     "execution_count": 85,
     "metadata": {},
     "output_type": "execute_result"
    }
   ],
   "source": [
    "import pandas as pd\n",
    "from scipy.stats import chi2_contingency\n",
    "\n",
    "# Create a contingency table to \n",
    "contingency_table = pd.crosstab(diabetes_df['A1Cresult'], diabetes_df['readmitted'])\n",
    "\n",
    "# Perform the Chi-Square test\n",
    "chi2, p, dof, expected = chi2_contingency(contingency_table)\n",
    "chi2, p, dof, expected \n"
   ]
  },
  {
   "cell_type": "markdown",
   "metadata": {},
   "source": [
    "The actual A1C result is not statistically significant here so we won't include this in our reduced dataframe."
   ]
  },
  {
   "cell_type": "code",
   "execution_count": 86,
   "metadata": {},
   "outputs": [
    {
     "data": {
      "text/plain": [
       "(188.13382228360737,\n",
       " 1.0114177173089188e-35,\n",
       " 9,\n",
       " array([[1.39274977e+02, 1.37250225e+01],\n",
       "        [4.86096980e+02, 4.79030197e+01],\n",
       "        [1.02043954e+03, 1.00560459e+02],\n",
       "        [2.45051137e+03, 2.41488631e+02],\n",
       "        [6.21548723e+03, 6.12512769e+02],\n",
       "        [1.12412202e+04, 1.10777976e+03],\n",
       "        [1.42770506e+04, 1.40694937e+03],\n",
       "        [1.61577180e+04, 1.59228202e+03],\n",
       "        [1.01060837e+04, 9.95916339e+02],\n",
       "        [1.60211739e+03, 1.57882612e+02]]))"
      ]
     },
     "execution_count": 86,
     "metadata": {},
     "output_type": "execute_result"
    }
   ],
   "source": [
    "import pandas as pd\n",
    "from scipy.stats import chi2_contingency\n",
    "\n",
    "# Create a contingency table to \n",
    "contingency_table = pd.crosstab(diabetes_df['age'], diabetes_df['readmitted'])\n",
    "\n",
    "# Perform the Chi-Square test\n",
    "chi2, p, dof, expected = chi2_contingency(contingency_table)\n",
    "chi2, p, dof, expected \n"
   ]
  },
  {
   "cell_type": "markdown",
   "metadata": {},
   "source": [
    "Age is statistically signficant."
   ]
  },
  {
   "cell_type": "code",
   "execution_count": 87,
   "metadata": {},
   "outputs": [
    {
     "data": {
      "text/plain": [
       "(0.6113260258097655,\n",
       " 0.7366348140607145,\n",
       " 2,\n",
       " array([[3.38893342e+04, 3.33966577e+03],\n",
       "        [2.98039349e+04, 2.93706511e+03],\n",
       "        [2.73088191e+00, 2.69118088e-01]]))"
      ]
     },
     "execution_count": 87,
     "metadata": {},
     "output_type": "execute_result"
    }
   ],
   "source": [
    "import pandas as pd\n",
    "from scipy.stats import chi2_contingency\n",
    "\n",
    "# Create a contingency table to \n",
    "contingency_table = pd.crosstab(diabetes_df['gender'], diabetes_df['readmitted'])\n",
    "\n",
    "# Perform the Chi-Square test\n",
    "chi2, p, dof, expected = chi2_contingency(contingency_table)\n",
    "chi2, p, dof, expected \n"
   ]
  },
  {
   "cell_type": "markdown",
   "metadata": {},
   "source": [
    "Gender is not statistically significant"
   ]
  },
  {
   "cell_type": "code",
   "execution_count": 88,
   "metadata": {},
   "outputs": [
    {
     "data": {
      "text/plain": [
       "(18.210752754882044,\n",
       " 0.002693546379127181,\n",
       " 5,\n",
       " array([[1.14924614e+04, 1.13253862e+03],\n",
       "        [4.44223458e+02, 4.37765424e+01],\n",
       "        [4.76010923e+04, 4.69090769e+03],\n",
       "        [1.36544096e+03, 1.34559044e+02],\n",
       "        [1.04683807e+03, 1.03161934e+02],\n",
       "        [1.74594384e+03, 1.72056165e+02]]))"
      ]
     },
     "execution_count": 88,
     "metadata": {},
     "output_type": "execute_result"
    }
   ],
   "source": [
    "import pandas as pd\n",
    "from scipy.stats import chi2_contingency\n",
    "\n",
    "# Create a contingency table to \n",
    "contingency_table = pd.crosstab(diabetes_df['race'], diabetes_df['readmitted'])\n",
    "\n",
    "# Perform the Chi-Square test\n",
    "chi2, p, dof, expected = chi2_contingency(contingency_table)\n",
    "chi2, p, dof, expected \n"
   ]
  },
  {
   "cell_type": "markdown",
   "metadata": {},
   "source": [
    "Race is statistically significant"
   ]
  },
  {
   "cell_type": "code",
   "execution_count": 89,
   "metadata": {},
   "outputs": [
    {
     "data": {
      "text/plain": [
       "(18.872430526679967,\n",
       " 0.008596497460928193,\n",
       " 7,\n",
       " array([[3.22844860e+04, 3.18151404e+03],\n",
       "        [1.16535834e+04, 1.14841659e+03],\n",
       "        [1.25484024e+04, 1.23659762e+03],\n",
       "        [8.19264573e+00, 8.07354265e-01],\n",
       "        [2.80916719e+03, 2.76832807e+02],\n",
       "        [4.11088757e+03, 4.05112429e+02],\n",
       "        [1.63852915e+01, 1.61470853e+00],\n",
       "        [2.64895545e+02, 2.61044546e+01]]))"
      ]
     },
     "execution_count": 89,
     "metadata": {},
     "output_type": "execute_result"
    }
   ],
   "source": [
    "import pandas as pd\n",
    "from scipy.stats import chi2_contingency\n",
    "\n",
    "# Create a contingency table to \n",
    "contingency_table = pd.crosstab(diabetes_df['admission_type_id'], diabetes_df['readmitted'])\n",
    "\n",
    "# Perform the Chi-Square test\n",
    "chi2, p, dof, expected = chi2_contingency(contingency_table)\n",
    "chi2, p, dof, expected \n"
   ]
  },
  {
   "cell_type": "markdown",
   "metadata": {},
   "source": [
    "Admission type is statistically significant"
   ]
  },
  {
   "cell_type": "code",
   "execution_count": 90,
   "metadata": {},
   "outputs": [
    {
     "data": {
      "text/plain": [
       "(133.09886182224147,\n",
       " 4.735512091613585e-20,\n",
       " 17,\n",
       " array([[3.09226862e+03, 3.04731382e+02],\n",
       "        [1.02863219e+02, 1.01367813e+01],\n",
       "        [1.17883069e+03, 1.16169308e+02],\n",
       "        [1.76506001e+03, 1.73939991e+02],\n",
       "        [3.38629357e+02, 3.33706430e+01],\n",
       "        [9.10293971e-01, 8.97060295e-02],\n",
       "        [3.62661118e+03, 3.57388821e+02],\n",
       "        [1.80074353e+04, 1.77456467e+03],\n",
       "        [1.97078645e+03, 1.94213554e+02],\n",
       "        [2.91294071e+01, 2.87059294e+00],\n",
       "        [5.88960199e+02, 5.80398011e+01],\n",
       "        [5.64382262e+01, 5.56177383e+00],\n",
       "        [4.16004345e+02, 4.09956555e+01],\n",
       "        [3.36808769e+01, 3.31912309e+00],\n",
       "        [3.00670098e+03, 2.96299015e+02],\n",
       "        [1.68859532e+03, 1.66404685e+02],\n",
       "        [2.76865911e+04, 2.72840889e+03],\n",
       "        [1.06504395e+02, 1.04956054e+01]]))"
      ]
     },
     "execution_count": 90,
     "metadata": {},
     "output_type": "execute_result"
    }
   ],
   "source": [
    "import pandas as pd\n",
    "from scipy.stats import chi2_contingency\n",
    "\n",
    "# Create a contingency table to \n",
    "contingency_table = pd.crosstab(diabetes_df['payer_code'], diabetes_df['readmitted'])\n",
    "\n",
    "# Perform the Chi-Square test\n",
    "chi2, p, dof, expected = chi2_contingency(contingency_table)\n",
    "chi2, p, dof, expected \n"
   ]
  },
  {
   "cell_type": "markdown",
   "metadata": {},
   "source": [
    "Payer code is statistically significant"
   ]
  },
  {
   "cell_type": "code",
   "execution_count": 91,
   "metadata": {},
   "outputs": [
    {
     "data": {
      "text/plain": [
       "(274.18868404668183,\n",
       " 5.92540801142587e-51,\n",
       " 13,\n",
       " array([[ 9530.77787146,   939.22212854],\n",
       "        [11085.55997313,  1092.44002687],\n",
       "        [11366.84081003,  1120.15918997],\n",
       "        [ 8577.70008432,   845.29991568],\n",
       "        [ 6096.23872065,   600.76127935],\n",
       "        [ 4596.98455118,   453.01544882],\n",
       "        [ 3551.96707301,   350.03292699],\n",
       "        [ 2587.96575822,   255.03424178],\n",
       "        [ 1739.57177769,   171.42822231],\n",
       "        [ 1370.90271962,   135.09728038],\n",
       "        [ 1081.42923699,   106.57076301],\n",
       "        [  832.91898304,    82.08101696],\n",
       "        [  692.73371157,    68.26628843],\n",
       "        [  584.40872908,    57.59127092]]))"
      ]
     },
     "execution_count": 91,
     "metadata": {},
     "output_type": "execute_result"
    }
   ],
   "source": [
    "import pandas as pd\n",
    "from scipy.stats import chi2_contingency\n",
    "\n",
    "# Create a contingency table to \n",
    "contingency_table = pd.crosstab(diabetes_df['time_in_hospital'], diabetes_df['readmitted'])\n",
    "\n",
    "# Perform the Chi-Square test\n",
    "chi2, p, dof, expected = chi2_contingency(contingency_table)\n",
    "chi2, p, dof, expected \n"
   ]
  },
  {
   "cell_type": "markdown",
   "metadata": {},
   "source": [
    "Time in hospital is statistically significant"
   ]
  },
  {
   "cell_type": "code",
   "execution_count": 92,
   "metadata": {},
   "outputs": [
    {
     "data": {
      "text/plain": [
       "(227.33783363021905,\n",
       " 2.190847541795524e-09,\n",
       " 115,\n",
       " array([[2.05180261e+03, 2.02197390e+02],\n",
       "        [7.03657239e+02, 6.93427608e+01],\n",
       "        [4.60608749e+02, 4.53912509e+01],\n",
       "        [2.67626427e+02, 2.63735727e+01],\n",
       "        [1.93892616e+02, 1.91073843e+01],\n",
       "        [1.81148500e+02, 1.78514999e+01],\n",
       "        [2.35766138e+02, 2.32338616e+01],\n",
       "        [2.42138196e+02, 2.38618038e+01],\n",
       "        [6.19910194e+02, 6.10898061e+01],\n",
       "        [5.28880797e+02, 5.21192031e+01],\n",
       "        [4.36941106e+02, 4.30588941e+01],\n",
       "        [3.35898475e+02, 3.31015249e+01],\n",
       "        [2.68536721e+02, 2.64632787e+01],\n",
       "        [2.35766138e+02, 2.32338616e+01],\n",
       "        [2.57613194e+02, 2.53868063e+01],\n",
       "        [3.25885241e+02, 3.21147585e+01],\n",
       "        [4.29658754e+02, 4.23412459e+01],\n",
       "        [4.37851400e+02, 4.31486002e+01],\n",
       "        [6.46308719e+02, 6.36912809e+01],\n",
       "        [5.23419033e+02, 5.15809669e+01],\n",
       "        [4.86096980e+02, 4.79030197e+01],\n",
       "        [4.51505809e+02, 4.44941906e+01],\n",
       "        [5.44355794e+02, 5.36442056e+01],\n",
       "        [4.81545510e+02, 4.74544896e+01],\n",
       "        [6.63604305e+02, 6.53956955e+01],\n",
       "        [7.05477827e+02, 6.95221728e+01],\n",
       "        [5.45266088e+02, 5.37339117e+01],\n",
       "        [6.87271948e+02, 6.77280522e+01],\n",
       "        [8.51124862e+02, 8.38751376e+01],\n",
       "        [8.45663099e+02, 8.33369014e+01],\n",
       "        [8.52035156e+02, 8.39648436e+01],\n",
       "        [8.65689566e+02, 8.53104340e+01],\n",
       "        [8.33829277e+02, 8.21707230e+01],\n",
       "        [1.01952925e+03, 1.00470753e+02],\n",
       "        [1.19521598e+03, 1.17784017e+02],\n",
       "        [1.17427922e+03, 1.15720778e+02],\n",
       "        [1.29352773e+03, 1.27472268e+02],\n",
       "        [1.38455713e+03, 1.36442871e+02],\n",
       "        [1.30081008e+03, 1.28189916e+02],\n",
       "        [1.34905566e+03, 1.32944336e+02],\n",
       "        [1.29079685e+03, 1.27203150e+02],\n",
       "        [1.26530862e+03, 1.24691381e+02],\n",
       "        [1.69496737e+03, 1.67032627e+02],\n",
       "        [1.49015123e+03, 1.46848770e+02],\n",
       "        [1.44827771e+03, 1.42722293e+02],\n",
       "        [1.37272331e+03, 1.35276692e+02],\n",
       "        [1.35087625e+03, 1.33123748e+02],\n",
       "        [1.26075715e+03, 1.24242851e+02],\n",
       "        [1.24073068e+03, 1.22269318e+02],\n",
       "        [1.18611304e+03, 1.16886956e+02],\n",
       "        [1.18793363e+03, 1.17066368e+02],\n",
       "        [1.10509688e+03, 1.08903120e+02],\n",
       "        [1.09053218e+03, 1.07467823e+02],\n",
       "        [1.16062481e+03, 1.14375188e+02],\n",
       "        [1.14059835e+03, 1.12401655e+02],\n",
       "        [1.11602041e+03, 1.09979592e+02],\n",
       "        [1.09235276e+03, 1.07647235e+02],\n",
       "        [1.04592777e+03, 1.03072228e+02],\n",
       "        [1.01497778e+03, 1.00022223e+02],\n",
       "        [9.77655724e+02, 9.63442756e+01],\n",
       "        [9.97682192e+02, 9.83178083e+01],\n",
       "        [9.36692496e+02, 9.23075043e+01],\n",
       "        [8.76613094e+02, 8.63869064e+01],\n",
       "        [8.04699870e+02, 7.93001301e+01],\n",
       "        [7.99238106e+02, 7.87618939e+01],\n",
       "        [7.65557229e+02, 7.54427708e+01],\n",
       "        [7.16401355e+02, 7.05986452e+01],\n",
       "        [6.49949895e+02, 6.40501050e+01],\n",
       "        [6.06255784e+02, 5.97442156e+01],\n",
       "        [5.25239621e+02, 5.17603790e+01],\n",
       "        [5.07944036e+02, 5.00559644e+01],\n",
       "        [4.91558744e+02, 4.84412559e+01],\n",
       "        [4.17824932e+02, 4.11750675e+01],\n",
       "        [3.85964644e+02, 3.80353565e+01],\n",
       "        [3.35898475e+02, 3.31015249e+01],\n",
       "        [3.04038186e+02, 2.99618138e+01],\n",
       "        [2.80370543e+02, 2.76294571e+01],\n",
       "        [2.21201435e+02, 2.17985652e+01],\n",
       "        [2.03905849e+02, 2.00941506e+01],\n",
       "        [1.89341146e+02, 1.86588541e+01],\n",
       "        [1.72045560e+02, 1.69544396e+01],\n",
       "        [1.33813214e+02, 1.31867863e+01],\n",
       "        [1.47467623e+02, 1.45323768e+01],\n",
       "        [1.03773513e+02, 1.02264874e+01],\n",
       "        [1.00132337e+02, 9.86766324e+00],\n",
       "        [8.01058694e+01, 7.89413059e+00],\n",
       "        [6.18999900e+01, 6.10001000e+00],\n",
       "        [6.64514598e+01, 6.54854015e+00],\n",
       "        [4.64249925e+01, 4.57500750e+00],\n",
       "        [4.18735226e+01, 4.12647736e+00],\n",
       "        [4.09632287e+01, 4.03677133e+00],\n",
       "        [3.27705829e+01, 3.22941706e+00],\n",
       "        [3.45911709e+01, 3.40882912e+00],\n",
       "        [3.27705829e+01, 3.22941706e+00],\n",
       "        [3.18602890e+01, 3.13971103e+00],\n",
       "        [1.72955854e+01, 1.70441456e+00],\n",
       "        [1.91161734e+01, 1.88382662e+00],\n",
       "        [1.63852915e+01, 1.61470853e+00],\n",
       "        [5.46176382e+00, 5.38236177e-01],\n",
       "        [1.00132337e+01, 9.86766324e-01],\n",
       "        [6.37205779e+00, 6.27942206e-01],\n",
       "        [3.64117588e+00, 3.58824118e-01],\n",
       "        [5.46176382e+00, 5.38236177e-01],\n",
       "        [1.82058794e+00, 1.79412059e-01],\n",
       "        [2.73088191e+00, 2.69118088e-01],\n",
       "        [3.64117588e+00, 3.58824118e-01],\n",
       "        [9.10293971e-01, 8.97060295e-02],\n",
       "        [3.64117588e+00, 3.58824118e-01],\n",
       "        [1.82058794e+00, 1.79412059e-01],\n",
       "        [1.82058794e+00, 1.79412059e-01],\n",
       "        [1.82058794e+00, 1.79412059e-01],\n",
       "        [9.10293971e-01, 8.97060295e-02],\n",
       "        [9.10293971e-01, 8.97060295e-02],\n",
       "        [9.10293971e-01, 8.97060295e-02],\n",
       "        [9.10293971e-01, 8.97060295e-02],\n",
       "        [9.10293971e-01, 8.97060295e-02]]))"
      ]
     },
     "execution_count": 92,
     "metadata": {},
     "output_type": "execute_result"
    }
   ],
   "source": [
    "import pandas as pd\n",
    "from scipy.stats import chi2_contingency\n",
    "\n",
    "# Create a contingency table to \n",
    "contingency_table = pd.crosstab(diabetes_df['num_lab_procedures'], diabetes_df['readmitted'])\n",
    "\n",
    "# Perform the Chi-Square test\n",
    "chi2, p, dof, expected = chi2_contingency(contingency_table)\n",
    "chi2, p, dof, expected \n"
   ]
  },
  {
   "cell_type": "markdown",
   "metadata": {},
   "source": [
    "Number of lab procedures is statistically significant"
   ]
  },
  {
   "cell_type": "code",
   "execution_count": 93,
   "metadata": {},
   "outputs": [
    {
     "data": {
      "text/plain": [
       "(1434.0837881144912,\n",
       " 9.395940707022191e-54,\n",
       " 694,\n",
       " array([[0.91029397, 0.08970603],\n",
       "        [7.28235176, 0.71764824],\n",
       "        [1.82058794, 0.17941206],\n",
       "        ...,\n",
       "        [0.91029397, 0.08970603],\n",
       "        [0.91029397, 0.08970603],\n",
       "        [7.28235176, 0.71764824]]))"
      ]
     },
     "execution_count": 93,
     "metadata": {},
     "output_type": "execute_result"
    }
   ],
   "source": [
    "import pandas as pd\n",
    "from scipy.stats import chi2_contingency\n",
    "\n",
    "# Create a contingency table to \n",
    "contingency_table = pd.crosstab(diabetes_df['diag_1'], diabetes_df['readmitted'])\n",
    "\n",
    "# Perform the Chi-Square test\n",
    "chi2, p, dof, expected = chi2_contingency(contingency_table)\n",
    "chi2, p, dof, expected \n"
   ]
  },
  {
   "cell_type": "markdown",
   "metadata": {},
   "source": [
    "Primary diagnosis is statistically significant"
   ]
  },
  {
   "cell_type": "code",
   "execution_count": 94,
   "metadata": {},
   "outputs": [
    {
     "data": {
      "text/plain": [
       "(240.31918893838173,\n",
       " 1.8562809970227165e-19,\n",
       " 74,\n",
       " array([[1.96623498e+02, 1.93765024e+01],\n",
       "        [3.55924942e+02, 3.50750575e+01],\n",
       "        [6.44488131e+02, 6.35118689e+01],\n",
       "        [1.04319689e+03, 1.02803110e+02],\n",
       "        [1.45009830e+03, 1.42901705e+02],\n",
       "        [1.90433499e+03, 1.87665014e+02],\n",
       "        [2.42047167e+03, 2.38528332e+02],\n",
       "        [2.93387747e+03, 2.89122533e+02],\n",
       "        [3.28889212e+03, 3.24107884e+02],\n",
       "        [3.50827296e+03, 3.45727038e+02],\n",
       "        [3.65665088e+03, 3.60349120e+02],\n",
       "        [3.86146702e+03, 3.80532977e+02],\n",
       "        [3.87694202e+03, 3.82057980e+02],\n",
       "        [3.49734943e+03, 3.44650565e+02],\n",
       "        [3.54377443e+03, 3.49225573e+02],\n",
       "        [3.31711123e+03, 3.26888771e+02],\n",
       "        [2.96391717e+03, 2.92082832e+02],\n",
       "        [2.67444369e+03, 2.63556315e+02],\n",
       "        [2.35584080e+03, 2.32159204e+02],\n",
       "        [2.14556289e+03, 2.11437111e+02],\n",
       "        [1.86155117e+03, 1.83448830e+02],\n",
       "        [1.66219679e+03, 1.63803210e+02],\n",
       "        [1.42278948e+03, 1.40210524e+02],\n",
       "        [1.19612628e+03, 1.17873723e+02],\n",
       "        [1.10054541e+03, 1.08454590e+02],\n",
       "        [9.43974847e+02, 9.30251526e+01],\n",
       "        [8.26546925e+02, 8.14530748e+01],\n",
       "        [7.21863119e+02, 7.11368814e+01],\n",
       "        [5.67113144e+02, 5.58868564e+01],\n",
       "        [4.73352865e+02, 4.66471353e+01],\n",
       "        [4.09632287e+02, 4.03677133e+01],\n",
       "        [3.76861704e+02, 3.71382962e+01],\n",
       "        [3.07679362e+02, 3.03206380e+01],\n",
       "        [2.55792606e+02, 2.52073943e+01],\n",
       "        [2.31214669e+02, 2.27853315e+01],\n",
       "        [1.80238206e+02, 1.77617938e+01],\n",
       "        [1.79327912e+02, 1.76720878e+01],\n",
       "        [1.39274977e+02, 1.37250225e+01],\n",
       "        [1.36544096e+02, 1.34559044e+01],\n",
       "        [1.16517628e+02, 1.14823718e+01],\n",
       "        [9.46705729e+01, 9.32942706e+00],\n",
       "        [8.92088091e+01, 8.79119089e+00],\n",
       "        [8.28367513e+01, 8.16324868e+00],\n",
       "        [5.91691081e+01, 5.83089192e+00],\n",
       "        [6.09896960e+01, 6.01030397e+00],\n",
       "        [6.64514598e+01, 6.54854015e+00],\n",
       "        [5.18867563e+01, 5.11324368e+00],\n",
       "        [4.27838166e+01, 4.21618339e+00],\n",
       "        [4.55146985e+01, 4.48530147e+00],\n",
       "        [4.09632287e+01, 4.03677133e+00],\n",
       "        [2.82191131e+01, 2.78088691e+00],\n",
       "        [4.00529347e+01, 3.94706530e+00],\n",
       "        [3.27705829e+01, 3.22941706e+00],\n",
       "        [2.54882312e+01, 2.51176883e+00],\n",
       "        [1.82058794e+01, 1.79412059e+00],\n",
       "        [3.00397010e+01, 2.96029897e+00],\n",
       "        [2.09367613e+01, 2.06323868e+00],\n",
       "        [1.63852915e+01, 1.61470853e+00],\n",
       "        [1.18338216e+01, 1.16617838e+00],\n",
       "        [1.91161734e+01, 1.88382662e+00],\n",
       "        [1.09235276e+01, 1.07647235e+00],\n",
       "        [9.10293971e+00, 8.97060295e-01],\n",
       "        [1.18338216e+01, 1.16617838e+00],\n",
       "        [6.37205779e+00, 6.27942206e-01],\n",
       "        [7.28235176e+00, 7.17648236e-01],\n",
       "        [3.64117588e+00, 3.58824118e-01],\n",
       "        [4.55146985e+00, 4.48530147e-01],\n",
       "        [4.55146985e+00, 4.48530147e-01],\n",
       "        [3.64117588e+00, 3.58824118e-01],\n",
       "        [1.82058794e+00, 1.79412059e-01],\n",
       "        [1.82058794e+00, 1.79412059e-01],\n",
       "        [9.10293971e-01, 8.97060295e-02],\n",
       "        [1.82058794e+00, 1.79412059e-01],\n",
       "        [9.10293971e-01, 8.97060295e-02],\n",
       "        [9.10293971e-01, 8.97060295e-02]]))"
      ]
     },
     "execution_count": 94,
     "metadata": {},
     "output_type": "execute_result"
    }
   ],
   "source": [
    "import pandas as pd\n",
    "from scipy.stats import chi2_contingency\n",
    "\n",
    "# Create a contingency table to \n",
    "contingency_table = pd.crosstab(diabetes_df['num_medications'], diabetes_df['readmitted'])\n",
    "\n",
    "# Perform the Chi-Square test\n",
    "chi2, p, dof, expected = chi2_contingency(contingency_table)\n",
    "chi2, p, dof, expected \n"
   ]
  },
  {
   "cell_type": "markdown",
   "metadata": {},
   "source": [
    "Number of medications is statistically significant"
   ]
  },
  {
   "cell_type": "code",
   "execution_count": 95,
   "metadata": {},
   "outputs": [
    {
     "data": {
      "text/plain": [
       "(6.9942155454614605,\n",
       " 0.07208237144251027,\n",
       " 3,\n",
       " array([[  852.03515642,    83.96484358],\n",
       "        [  648.12930702,    63.87069298],\n",
       "        [60648.33578666,  5976.66421334],\n",
       "        [ 1547.4997499 ,   152.5002501 ]]))"
      ]
     },
     "execution_count": 95,
     "metadata": {},
     "output_type": "execute_result"
    }
   ],
   "source": [
    "import pandas as pd\n",
    "from scipy.stats import chi2_contingency\n",
    "\n",
    "# Create a contingency table to \n",
    "contingency_table = pd.crosstab(diabetes_df['max_glu_serum'], diabetes_df['readmitted'])\n",
    "\n",
    "# Perform the Chi-Square test\n",
    "chi2, p, dof, expected = chi2_contingency(contingency_table)\n",
    "chi2, p, dof, expected \n"
   ]
  },
  {
   "cell_type": "markdown",
   "metadata": {},
   "source": [
    "The glucose result is not statistically significant"
   ]
  },
  {
   "cell_type": "code",
   "execution_count": 96,
   "metadata": {},
   "outputs": [
    {
     "data": {
      "text/plain": [
       "(5.892279472467756,\n",
       " 0.015207403378144534,\n",
       " 1,\n",
       " array([[60648.33578666,  5976.66421334],\n",
       "        [ 3047.66421334,   300.33578666]]))"
      ]
     },
     "execution_count": 96,
     "metadata": {},
     "output_type": "execute_result"
    }
   ],
   "source": [
    "import pandas as pd\n",
    "from scipy.stats import chi2_contingency\n",
    "\n",
    "# Create a contingency table to \n",
    "contingency_table = pd.crosstab(diabetes_df['Glucose_Measured'], diabetes_df['readmitted'])\n",
    "\n",
    "# Perform the Chi-Square test\n",
    "chi2, p, dof, expected = chi2_contingency(contingency_table)\n",
    "chi2, p, dof, expected \n",
    "\n"
   ]
  },
  {
   "cell_type": "markdown",
   "metadata": {},
   "source": [
    "Glucose measured is statistically significant!"
   ]
  },
  {
   "cell_type": "code",
   "execution_count": 97,
   "metadata": {},
   "outputs": [
    {
     "name": "stderr",
     "output_type": "stream",
     "text": [
      "posx and posy should be finite values\n",
      "posx and posy should be finite values\n",
      "posx and posy should be finite values\n",
      "posx and posy should be finite values\n"
     ]
    },
    {
     "name": "stderr",
     "output_type": "stream",
     "text": [
      "posx and posy should be finite values\n",
      "posx and posy should be finite values\n",
      "posx and posy should be finite values\n",
      "posx and posy should be finite values\n",
      "posx and posy should be finite values\n",
      "posx and posy should be finite values\n"
     ]
    },
    {
     "data": {
      "image/png": "[encoded data removed]",
      "text/plain": [
       "<Figure size 1000x600 with 1 Axes>"
      ]
     },
     "metadata": {},
     "output_type": "display_data"
    }
   ],
   "source": [
    "import numpy as np\n",
    "import pandas as pd\n",
    "import seaborn as sns\n",
    "import matplotlib.pyplot as plt\n",
    "from scipy.stats import chi2_contingency, chi2\n",
    "\n",
    "# Generate the contingency table\n",
    "contingency_table = pd.crosstab(diabetes_df['Glucose_Measured'], diabetes_df['readmitted'])\n",
    "\n",
    "# Perform the Chi-Square test\n",
    "chi2_stat, p, dof, expected = chi2_contingency(contingency_table)\n",
    "\n",
    "# Define the critical chi-square value for alpha = 0.05\n",
    "alpha = 0.05\n",
    "critical_value = chi2.ppf(1 - alpha, dof)\n",
    "\n",
    "# Generate values for the chi-square distribution curve\n",
    "x_values = np.linspace(0, chi2_stat + 10, 1000)\n",
    "y_values = chi2.pdf(x_values, dof)\n",
    "\n",
    "# Plot the chi-square distribution curve\n",
    "plt.figure(figsize=(10, 6))\n",
    "plt.plot(x_values, y_values, label=\"Chi-square Distribution\", color=\"blue\")\n",
    "\n",
    "# Add a vertical line for the observed chi-square value\n",
    "plt.axvline(chi2_stat, color=\"red\", linestyle=\"--\", linewidth=2, label=f\"Observed Chi2 = {chi2_stat:.2f}\")\n",
    "\n",
    "# Add a vertical line for the critical value at alpha = 0.05\n",
    "plt.axvline(critical_value, color=\"green\", linestyle=\"--\", linewidth=2, label=f\"Critical Value (alpha = {alpha})\")\n",
    "\n",
    "# Fill the rejection region\n",
    "plt.fill_between(x_values, 0, y_values, where=(x_values >= critical_value), color='orange', alpha=0.3)\n",
    "\n",
    "# Display p-value, chi-square, and significance level\n",
    "plt.text(chi2_stat + 1, max(y_values) * 0.6, f\"p-value: {p:.4f}\", color='red', ha='center')\n",
    "plt.text(critical_value + 1, max(y_values) * 0.7, f\"alpha = {alpha}\", color='green', ha='center')\n",
    "plt.xlabel(\"Chi-square Value\")\n",
    "plt.ylabel(\"Probability Density\")\n",
    "plt.title(\"Chi-square Distribution with Observed Value and Significance Level of Glucose Measured\")\n",
    "plt.legend()\n",
    "\n",
    "plt.tight_layout()\n",
    "plt.savefig('Glucose_Measured_Significance')\n"
   ]
  },
  {
   "cell_type": "code",
   "execution_count": 98,
   "metadata": {},
   "outputs": [
    {
     "data": {
      "image/png": "[encoded data removed]",
      "text/plain": [
       "<Figure size 800x600 with 2 Axes>"
      ]
     },
     "metadata": {},
     "output_type": "display_data"
    }
   ],
   "source": [
    "plt.figure(figsize=(8, 6))\n",
    "sns.heatmap(contingency_table, annot=True, fmt=\"d\", cmap=\"YlGnBu\")\n",
    "plt.title(f\"Chi-Square Test Results (p-value: {p:.4f})\")\n",
    "plt.show()\n"
   ]
  },
  {
   "cell_type": "code",
   "execution_count": 99,
   "metadata": {},
   "outputs": [
    {
     "data": {
      "text/plain": [
       "(227.33783363021905,\n",
       " 2.190847541795524e-09,\n",
       " 115,\n",
       " array([[2.05180261e+03, 2.02197390e+02],\n",
       "        [7.03657239e+02, 6.93427608e+01],\n",
       "        [4.60608749e+02, 4.53912509e+01],\n",
       "        [2.67626427e+02, 2.63735727e+01],\n",
       "        [1.93892616e+02, 1.91073843e+01],\n",
       "        [1.81148500e+02, 1.78514999e+01],\n",
       "        [2.35766138e+02, 2.32338616e+01],\n",
       "        [2.42138196e+02, 2.38618038e+01],\n",
       "        [6.19910194e+02, 6.10898061e+01],\n",
       "        [5.28880797e+02, 5.21192031e+01],\n",
       "        [4.36941106e+02, 4.30588941e+01],\n",
       "        [3.35898475e+02, 3.31015249e+01],\n",
       "        [2.68536721e+02, 2.64632787e+01],\n",
       "        [2.35766138e+02, 2.32338616e+01],\n",
       "        [2.57613194e+02, 2.53868063e+01],\n",
       "        [3.25885241e+02, 3.21147585e+01],\n",
       "        [4.29658754e+02, 4.23412459e+01],\n",
       "        [4.37851400e+02, 4.31486002e+01],\n",
       "        [6.46308719e+02, 6.36912809e+01],\n",
       "        [5.23419033e+02, 5.15809669e+01],\n",
       "        [4.86096980e+02, 4.79030197e+01],\n",
       "        [4.51505809e+02, 4.44941906e+01],\n",
       "        [5.44355794e+02, 5.36442056e+01],\n",
       "        [4.81545510e+02, 4.74544896e+01],\n",
       "        [6.63604305e+02, 6.53956955e+01],\n",
       "        [7.05477827e+02, 6.95221728e+01],\n",
       "        [5.45266088e+02, 5.37339117e+01],\n",
       "        [6.87271948e+02, 6.77280522e+01],\n",
       "        [8.51124862e+02, 8.38751376e+01],\n",
       "        [8.45663099e+02, 8.33369014e+01],\n",
       "        [8.52035156e+02, 8.39648436e+01],\n",
       "        [8.65689566e+02, 8.53104340e+01],\n",
       "        [8.33829277e+02, 8.21707230e+01],\n",
       "        [1.01952925e+03, 1.00470753e+02],\n",
       "        [1.19521598e+03, 1.17784017e+02],\n",
       "        [1.17427922e+03, 1.15720778e+02],\n",
       "        [1.29352773e+03, 1.27472268e+02],\n",
       "        [1.38455713e+03, 1.36442871e+02],\n",
       "        [1.30081008e+03, 1.28189916e+02],\n",
       "        [1.34905566e+03, 1.32944336e+02],\n",
       "        [1.29079685e+03, 1.27203150e+02],\n",
       "        [1.26530862e+03, 1.24691381e+02],\n",
       "        [1.69496737e+03, 1.67032627e+02],\n",
       "        [1.49015123e+03, 1.46848770e+02],\n",
       "        [1.44827771e+03, 1.42722293e+02],\n",
       "        [1.37272331e+03, 1.35276692e+02],\n",
       "        [1.35087625e+03, 1.33123748e+02],\n",
       "        [1.26075715e+03, 1.24242851e+02],\n",
       "        [1.24073068e+03, 1.22269318e+02],\n",
       "        [1.18611304e+03, 1.16886956e+02],\n",
       "        [1.18793363e+03, 1.17066368e+02],\n",
       "        [1.10509688e+03, 1.08903120e+02],\n",
       "        [1.09053218e+03, 1.07467823e+02],\n",
       "        [1.16062481e+03, 1.14375188e+02],\n",
       "        [1.14059835e+03, 1.12401655e+02],\n",
       "        [1.11602041e+03, 1.09979592e+02],\n",
       "        [1.09235276e+03, 1.07647235e+02],\n",
       "        [1.04592777e+03, 1.03072228e+02],\n",
       "        [1.01497778e+03, 1.00022223e+02],\n",
       "        [9.77655724e+02, 9.63442756e+01],\n",
       "        [9.97682192e+02, 9.83178083e+01],\n",
       "        [9.36692496e+02, 9.23075043e+01],\n",
       "        [8.76613094e+02, 8.63869064e+01],\n",
       "        [8.04699870e+02, 7.93001301e+01],\n",
       "        [7.99238106e+02, 7.87618939e+01],\n",
       "        [7.65557229e+02, 7.54427708e+01],\n",
       "        [7.16401355e+02, 7.05986452e+01],\n",
       "        [6.49949895e+02, 6.40501050e+01],\n",
       "        [6.06255784e+02, 5.97442156e+01],\n",
       "        [5.25239621e+02, 5.17603790e+01],\n",
       "        [5.07944036e+02, 5.00559644e+01],\n",
       "        [4.91558744e+02, 4.84412559e+01],\n",
       "        [4.17824932e+02, 4.11750675e+01],\n",
       "        [3.85964644e+02, 3.80353565e+01],\n",
       "        [3.35898475e+02, 3.31015249e+01],\n",
       "        [3.04038186e+02, 2.99618138e+01],\n",
       "        [2.80370543e+02, 2.76294571e+01],\n",
       "        [2.21201435e+02, 2.17985652e+01],\n",
       "        [2.03905849e+02, 2.00941506e+01],\n",
       "        [1.89341146e+02, 1.86588541e+01],\n",
       "        [1.72045560e+02, 1.69544396e+01],\n",
       "        [1.33813214e+02, 1.31867863e+01],\n",
       "        [1.47467623e+02, 1.45323768e+01],\n",
       "        [1.03773513e+02, 1.02264874e+01],\n",
       "        [1.00132337e+02, 9.86766324e+00],\n",
       "        [8.01058694e+01, 7.89413059e+00],\n",
       "        [6.18999900e+01, 6.10001000e+00],\n",
       "        [6.64514598e+01, 6.54854015e+00],\n",
       "        [4.64249925e+01, 4.57500750e+00],\n",
       "        [4.18735226e+01, 4.12647736e+00],\n",
       "        [4.09632287e+01, 4.03677133e+00],\n",
       "        [3.27705829e+01, 3.22941706e+00],\n",
       "        [3.45911709e+01, 3.40882912e+00],\n",
       "        [3.27705829e+01, 3.22941706e+00],\n",
       "        [3.18602890e+01, 3.13971103e+00],\n",
       "        [1.72955854e+01, 1.70441456e+00],\n",
       "        [1.91161734e+01, 1.88382662e+00],\n",
       "        [1.63852915e+01, 1.61470853e+00],\n",
       "        [5.46176382e+00, 5.38236177e-01],\n",
       "        [1.00132337e+01, 9.86766324e-01],\n",
       "        [6.37205779e+00, 6.27942206e-01],\n",
       "        [3.64117588e+00, 3.58824118e-01],\n",
       "        [5.46176382e+00, 5.38236177e-01],\n",
       "        [1.82058794e+00, 1.79412059e-01],\n",
       "        [2.73088191e+00, 2.69118088e-01],\n",
       "        [3.64117588e+00, 3.58824118e-01],\n",
       "        [9.10293971e-01, 8.97060295e-02],\n",
       "        [3.64117588e+00, 3.58824118e-01],\n",
       "        [1.82058794e+00, 1.79412059e-01],\n",
       "        [1.82058794e+00, 1.79412059e-01],\n",
       "        [1.82058794e+00, 1.79412059e-01],\n",
       "        [9.10293971e-01, 8.97060295e-02],\n",
       "        [9.10293971e-01, 8.97060295e-02],\n",
       "        [9.10293971e-01, 8.97060295e-02],\n",
       "        [9.10293971e-01, 8.97060295e-02],\n",
       "        [9.10293971e-01, 8.97060295e-02]]))"
      ]
     },
     "execution_count": 99,
     "metadata": {},
     "output_type": "execute_result"
    }
   ],
   "source": [
    "import pandas as pd\n",
    "from scipy.stats import chi2_contingency\n",
    "\n",
    "# Create a contingency table to \n",
    "contingency_table = pd.crosstab(diabetes_df['num_lab_procedures'], diabetes_df['readmitted'])\n",
    "\n",
    "# Perform the Chi-Square test\n",
    "chi2, p, dof, expected = chi2_contingency(contingency_table)\n",
    "chi2, p, dof, expected \n"
   ]
  },
  {
   "cell_type": "markdown",
   "metadata": {},
   "source": [
    "Number of Lab procedures is statistically significant"
   ]
  },
  {
   "cell_type": "code",
   "execution_count": 100,
   "metadata": {},
   "outputs": [
    {
     "data": {
      "text/plain": [
       "(50.626250842006954,\n",
       " 5.87644764524392e-11,\n",
       " 3,\n",
       " array([[ 6664.26215826,   656.73784174],\n",
       "        [31184.85084247,  3073.14915753],\n",
       "        [19677.82476098,  1939.17523902],\n",
       "        [ 6169.06223829,   607.93776171]]))"
      ]
     },
     "execution_count": 100,
     "metadata": {},
     "output_type": "execute_result"
    }
   ],
   "source": [
    "import pandas as pd\n",
    "from scipy.stats import chi2_contingency\n",
    "\n",
    "# Create a contingency table to \n",
    "contingency_table = pd.crosstab(diabetes_df['insulin'], diabetes_df['readmitted'])\n",
    "\n",
    "# Perform the Chi-Square test\n",
    "chi2, p, dof, expected = chi2_contingency(contingency_table)\n",
    "chi2, p, dof, expected \n"
   ]
  },
  {
   "cell_type": "markdown",
   "metadata": {},
   "source": [
    "Insulin measurement is also statistically significant"
   ]
  },
  {
   "cell_type": "code",
   "execution_count": 101,
   "metadata": {},
   "outputs": [
    {
     "data": {
      "text/plain": [
       "(14.983439258895487,\n",
       " 0.00010845884202377609,\n",
       " 1,\n",
       " array([[28666.06742601,  2824.93257399],\n",
       "        [35029.93257399,  3452.06742601]]))"
      ]
     },
     "execution_count": 101,
     "metadata": {},
     "output_type": "execute_result"
    }
   ],
   "source": [
    "import pandas as pd\n",
    "from scipy.stats import chi2_contingency\n",
    "\n",
    "# Create a contingency table to \n",
    "contingency_table = pd.crosstab(diabetes_df['change'], diabetes_df['readmitted'])\n",
    "\n",
    "# Perform the Chi-Square test\n",
    "chi2, p, dof, expected = chi2_contingency(contingency_table)\n",
    "chi2, p, dof, expected \n"
   ]
  },
  {
   "cell_type": "markdown",
   "metadata": {},
   "source": [
    "Change in medication is statistically significant"
   ]
  },
  {
   "cell_type": "code",
   "execution_count": 102,
   "metadata": {},
   "outputs": [
    {
     "data": {
      "text/plain": [
       "(54.05200384318759,\n",
       " 1.9525288585115278e-13,\n",
       " 1,\n",
       " array([[15183.70342847,  1496.29657153],\n",
       "        [48512.29657153,  4780.70342847]]))"
      ]
     },
     "execution_count": 102,
     "metadata": {},
     "output_type": "execute_result"
    }
   ],
   "source": [
    "import pandas as pd\n",
    "from scipy.stats import chi2_contingency\n",
    "\n",
    "# Create a contingency table to \n",
    "contingency_table = pd.crosstab(diabetes_df['diabetesMed'], diabetes_df['readmitted'])\n",
    "\n",
    "# Perform the Chi-Square test\n",
    "chi2, p, dof, expected = chi2_contingency(contingency_table)\n",
    "chi2, p, dof, expected \n"
   ]
  },
  {
   "cell_type": "markdown",
   "metadata": {},
   "source": [
    "Prescribed diabetes medication is also statisically significant"
   ]
  },
  {
   "cell_type": "markdown",
   "metadata": {},
   "source": [
    "## Feature Selection\n",
    "\n",
    "Based on domain knowledge and statistical significance of variables\n"
   ]
  },
  {
   "cell_type": "code",
   "execution_count": 103,
   "metadata": {},
   "outputs": [
    {
     "data": {
      "text/html": [
       "<div>\n",
       "<style scoped>\n",
       "    .dataframe tbody tr th:only-of-type {\n",
       "        vertical-align: middle;\n",
       "    }\n",
       "\n",
       "    .dataframe tbody tr th {\n",
       "        vertical-align: top;\n",
       "    }\n",
       "\n",
       "    .dataframe thead th {\n",
       "        text-align: right;\n",
       "    }\n",
       "</style>\n",
       "<table border=\"1\" class=\"dataframe\">\n",
       "  <thead>\n",
       "    <tr style=\"text-align: right;\">\n",
       "      <th></th>\n",
       "      <th>race</th>\n",
       "      <th>age</th>\n",
       "      <th>payer_code</th>\n",
       "      <th>admission_type_id</th>\n",
       "      <th>time_in_hospital</th>\n",
       "      <th>num_lab_procedures</th>\n",
       "      <th>diag_1</th>\n",
       "      <th>num_medications</th>\n",
       "      <th>Glucose_Measured</th>\n",
       "      <th>A1Cmeasurement</th>\n",
       "      <th>insulin</th>\n",
       "      <th>change</th>\n",
       "      <th>diabetesMed</th>\n",
       "      <th>readmitted</th>\n",
       "    </tr>\n",
       "  </thead>\n",
       "  <tbody>\n",
       "    <tr>\n",
       "      <th>0</th>\n",
       "      <td>Caucasian</td>\n",
       "      <td>1</td>\n",
       "      <td>Unknown</td>\n",
       "      <td>6</td>\n",
       "      <td>1</td>\n",
       "      <td>41</td>\n",
       "      <td>250.83</td>\n",
       "      <td>1</td>\n",
       "      <td>No</td>\n",
       "      <td>No</td>\n",
       "      <td>No</td>\n",
       "      <td>No</td>\n",
       "      <td>No</td>\n",
       "      <td>Otherwise</td>\n",
       "    </tr>\n",
       "    <tr>\n",
       "      <th>1</th>\n",
       "      <td>Caucasian</td>\n",
       "      <td>2</td>\n",
       "      <td>Unknown</td>\n",
       "      <td>1</td>\n",
       "      <td>3</td>\n",
       "      <td>59</td>\n",
       "      <td>276</td>\n",
       "      <td>18</td>\n",
       "      <td>No</td>\n",
       "      <td>No</td>\n",
       "      <td>Up</td>\n",
       "      <td>Ch</td>\n",
       "      <td>Yes</td>\n",
       "      <td>Otherwise</td>\n",
       "    </tr>\n",
       "    <tr>\n",
       "      <th>2</th>\n",
       "      <td>AfricanAmerican</td>\n",
       "      <td>3</td>\n",
       "      <td>Unknown</td>\n",
       "      <td>1</td>\n",
       "      <td>2</td>\n",
       "      <td>11</td>\n",
       "      <td>648</td>\n",
       "      <td>13</td>\n",
       "      <td>No</td>\n",
       "      <td>No</td>\n",
       "      <td>No</td>\n",
       "      <td>No</td>\n",
       "      <td>Yes</td>\n",
       "      <td>Otherwise</td>\n",
       "    </tr>\n",
       "    <tr>\n",
       "      <th>3</th>\n",
       "      <td>Caucasian</td>\n",
       "      <td>4</td>\n",
       "      <td>Unknown</td>\n",
       "      <td>1</td>\n",
       "      <td>2</td>\n",
       "      <td>44</td>\n",
       "      <td>8</td>\n",
       "      <td>16</td>\n",
       "      <td>No</td>\n",
       "      <td>No</td>\n",
       "      <td>Up</td>\n",
       "      <td>Ch</td>\n",
       "      <td>Yes</td>\n",
       "      <td>Otherwise</td>\n",
       "    </tr>\n",
       "    <tr>\n",
       "      <th>4</th>\n",
       "      <td>Caucasian</td>\n",
       "      <td>5</td>\n",
       "      <td>Unknown</td>\n",
       "      <td>1</td>\n",
       "      <td>1</td>\n",
       "      <td>51</td>\n",
       "      <td>197</td>\n",
       "      <td>8</td>\n",
       "      <td>No</td>\n",
       "      <td>No</td>\n",
       "      <td>Steady</td>\n",
       "      <td>Ch</td>\n",
       "      <td>Yes</td>\n",
       "      <td>Otherwise</td>\n",
       "    </tr>\n",
       "    <tr>\n",
       "      <th>...</th>\n",
       "      <td>...</td>\n",
       "      <td>...</td>\n",
       "      <td>...</td>\n",
       "      <td>...</td>\n",
       "      <td>...</td>\n",
       "      <td>...</td>\n",
       "      <td>...</td>\n",
       "      <td>...</td>\n",
       "      <td>...</td>\n",
       "      <td>...</td>\n",
       "      <td>...</td>\n",
       "      <td>...</td>\n",
       "      <td>...</td>\n",
       "      <td>...</td>\n",
       "    </tr>\n",
       "    <tr>\n",
       "      <th>101754</th>\n",
       "      <td>Caucasian</td>\n",
       "      <td>8</td>\n",
       "      <td>Unknown</td>\n",
       "      <td>1</td>\n",
       "      <td>9</td>\n",
       "      <td>50</td>\n",
       "      <td>574</td>\n",
       "      <td>33</td>\n",
       "      <td>No</td>\n",
       "      <td>Yes</td>\n",
       "      <td>Steady</td>\n",
       "      <td>Ch</td>\n",
       "      <td>Yes</td>\n",
       "      <td>Otherwise</td>\n",
       "    </tr>\n",
       "    <tr>\n",
       "      <th>101755</th>\n",
       "      <td>Other</td>\n",
       "      <td>5</td>\n",
       "      <td>MD</td>\n",
       "      <td>1</td>\n",
       "      <td>14</td>\n",
       "      <td>73</td>\n",
       "      <td>592</td>\n",
       "      <td>26</td>\n",
       "      <td>No</td>\n",
       "      <td>Yes</td>\n",
       "      <td>Up</td>\n",
       "      <td>Ch</td>\n",
       "      <td>Yes</td>\n",
       "      <td>Otherwise</td>\n",
       "    </tr>\n",
       "    <tr>\n",
       "      <th>101756</th>\n",
       "      <td>Other</td>\n",
       "      <td>7</td>\n",
       "      <td>MD</td>\n",
       "      <td>1</td>\n",
       "      <td>2</td>\n",
       "      <td>46</td>\n",
       "      <td>996</td>\n",
       "      <td>17</td>\n",
       "      <td>No</td>\n",
       "      <td>No</td>\n",
       "      <td>Steady</td>\n",
       "      <td>No</td>\n",
       "      <td>Yes</td>\n",
       "      <td>Otherwise</td>\n",
       "    </tr>\n",
       "    <tr>\n",
       "      <th>101758</th>\n",
       "      <td>Caucasian</td>\n",
       "      <td>9</td>\n",
       "      <td>MC</td>\n",
       "      <td>1</td>\n",
       "      <td>5</td>\n",
       "      <td>76</td>\n",
       "      <td>292</td>\n",
       "      <td>22</td>\n",
       "      <td>No</td>\n",
       "      <td>No</td>\n",
       "      <td>Up</td>\n",
       "      <td>Ch</td>\n",
       "      <td>Yes</td>\n",
       "      <td>Otherwise</td>\n",
       "    </tr>\n",
       "    <tr>\n",
       "      <th>101765</th>\n",
       "      <td>Caucasian</td>\n",
       "      <td>8</td>\n",
       "      <td>Unknown</td>\n",
       "      <td>1</td>\n",
       "      <td>6</td>\n",
       "      <td>13</td>\n",
       "      <td>530</td>\n",
       "      <td>3</td>\n",
       "      <td>No</td>\n",
       "      <td>No</td>\n",
       "      <td>No</td>\n",
       "      <td>No</td>\n",
       "      <td>No</td>\n",
       "      <td>Otherwise</td>\n",
       "    </tr>\n",
       "  </tbody>\n",
       "</table>\n",
       "<p>69973 rows × 14 columns</p>\n",
       "</div>"
      ],
      "text/plain": [
       "                   race age payer_code admission_type_id  time_in_hospital  \\\n",
       "0             Caucasian   1    Unknown                 6                 1   \n",
       "1             Caucasian   2    Unknown                 1                 3   \n",
       "2       AfricanAmerican   3    Unknown                 1                 2   \n",
       "3             Caucasian   4    Unknown                 1                 2   \n",
       "4             Caucasian   5    Unknown                 1                 1   \n",
       "...                 ...  ..        ...               ...               ...   \n",
       "101754        Caucasian   8    Unknown                 1                 9   \n",
       "101755            Other   5         MD                 1                14   \n",
       "101756            Other   7         MD                 1                 2   \n",
       "101758        Caucasian   9         MC                 1                 5   \n",
       "101765        Caucasian   8    Unknown                 1                 6   \n",
       "\n",
       "        num_lab_procedures  diag_1  num_medications Glucose_Measured  \\\n",
       "0                       41  250.83                1               No   \n",
       "1                       59     276               18               No   \n",
       "2                       11     648               13               No   \n",
       "3                       44       8               16               No   \n",
       "4                       51     197                8               No   \n",
       "...                    ...     ...              ...              ...   \n",
       "101754                  50     574               33               No   \n",
       "101755                  73     592               26               No   \n",
       "101756                  46     996               17               No   \n",
       "101758                  76     292               22               No   \n",
       "101765                  13     530                3               No   \n",
       "\n",
       "       A1Cmeasurement insulin change diabetesMed readmitted  \n",
       "0                  No      No     No          No  Otherwise  \n",
       "1                  No      Up     Ch         Yes  Otherwise  \n",
       "2                  No      No     No         Yes  Otherwise  \n",
       "3                  No      Up     Ch         Yes  Otherwise  \n",
       "4                  No  Steady     Ch         Yes  Otherwise  \n",
       "...               ...     ...    ...         ...        ...  \n",
       "101754            Yes  Steady     Ch         Yes  Otherwise  \n",
       "101755            Yes      Up     Ch         Yes  Otherwise  \n",
       "101756             No  Steady     No         Yes  Otherwise  \n",
       "101758             No      Up     Ch         Yes  Otherwise  \n",
       "101765             No      No     No          No  Otherwise  \n",
       "\n",
       "[69973 rows x 14 columns]"
      ]
     },
     "execution_count": 103,
     "metadata": {},
     "output_type": "execute_result"
    }
   ],
   "source": [
    "reduced_df = diabetes_df[['race', 'age', 'payer_code',\n",
    "                                           'admission_type_id','time_in_hospital',\n",
    "                                           'num_lab_procedures','diag_1', 'num_medications',\n",
    "                                           'Glucose_Measured', 'A1Cmeasurement',\n",
    "                                           'insulin','change', \n",
    "                                           'diabetesMed', 'readmitted']]\n",
    "reduced_df"
   ]
  },
  {
   "cell_type": "code",
   "execution_count": 104,
   "metadata": {},
   "outputs": [
    {
     "name": "stdout",
     "output_type": "stream",
     "text": [
      "<class 'pandas.core.frame.DataFrame'>\n",
      "Index: 69973 entries, 0 to 101765\n",
      "Data columns (total 14 columns):\n",
      " #   Column              Non-Null Count  Dtype \n",
      "---  ------              --------------  ----- \n",
      " 0   race                69973 non-null  object\n",
      " 1   age                 69973 non-null  object\n",
      " 2   payer_code          69973 non-null  object\n",
      " 3   admission_type_id   69973 non-null  object\n",
      " 4   time_in_hospital    69973 non-null  int64 \n",
      " 5   num_lab_procedures  69973 non-null  int64 \n",
      " 6   diag_1              69973 non-null  object\n",
      " 7   num_medications     69973 non-null  int64 \n",
      " 8   Glucose_Measured    69973 non-null  object\n",
      " 9   A1Cmeasurement      69973 non-null  object\n",
      " 10  insulin             69973 non-null  object\n",
      " 11  change              69973 non-null  object\n",
      " 12  diabetesMed         69973 non-null  object\n",
      " 13  readmitted          69973 non-null  object\n",
      "dtypes: int64(3), object(11)\n",
      "memory usage: 8.0+ MB\n"
     ]
    }
   ],
   "source": [
    "reduced_df.info()"
   ]
  },
  {
   "cell_type": "code",
   "execution_count": 105,
   "metadata": {},
   "outputs": [],
   "source": [
    "reduced_df.to_csv('features_reduced.csv')"
   ]
  },
  {
   "cell_type": "code",
   "execution_count": 106,
   "metadata": {},
   "outputs": [
    {
     "data": {
      "image/png": "[encoded data removed]",
      "text/plain": [
       "<Figure size 1000x1000 with 2 Axes>"
      ]
     },
     "metadata": {},
     "output_type": "display_data"
    }
   ],
   "source": [
    "\n",
    "sns.heatmap(reduced_df.corr(numeric_only=True), annot=True, cmap='RdYlGn', linewidths=0.2)\n",
    "fig = plt.gcf()\n",
    "fig.set_size_inches(10, 10)"
   ]
  },
  {
   "cell_type": "code",
   "execution_count": 107,
   "metadata": {},
   "outputs": [
    {
     "data": {
      "text/plain": [
       "Index(['race', 'age', 'payer_code', 'admission_type_id', 'time_in_hospital',\n",
       "       'num_lab_procedures', 'diag_1', 'num_medications', 'Glucose_Measured',\n",
       "       'A1Cmeasurement', 'insulin', 'change', 'diabetesMed'],\n",
       "      dtype='object')"
      ]
     },
     "execution_count": 107,
     "metadata": {},
     "output_type": "execute_result"
    }
   ],
   "source": [
    "X_reduced = reduced_df.drop('readmitted', axis=1)\n",
    "y_reduced = reduced_df['readmitted']\n",
    "X_reduced.columns"
   ]
  },
  {
   "cell_type": "code",
   "execution_count": 108,
   "metadata": {},
   "outputs": [
    {
     "data": {
      "text/plain": [
       "0         Otherwise\n",
       "1         Otherwise\n",
       "2         Otherwise\n",
       "3         Otherwise\n",
       "4         Otherwise\n",
       "            ...    \n",
       "101754    Otherwise\n",
       "101755    Otherwise\n",
       "101756    Otherwise\n",
       "101758    Otherwise\n",
       "101765    Otherwise\n",
       "Name: readmitted, Length: 69973, dtype: object"
      ]
     },
     "execution_count": 108,
     "metadata": {},
     "output_type": "execute_result"
    }
   ],
   "source": [
    "y_reduced"
   ]
  },
  {
   "cell_type": "markdown",
   "metadata": {},
   "source": [
    "## Train-test split"
   ]
  },
  {
   "cell_type": "code",
   "execution_count": 109,
   "metadata": {},
   "outputs": [],
   "source": [
    "X_train, X_test, y_train, y_test = train_test_split(X_reduced, y_reduced, test_size=.25, random_state=1000)"
   ]
  },
  {
   "cell_type": "code",
   "execution_count": 110,
   "metadata": {},
   "outputs": [
    {
     "data": {
      "text/html": [
       "<div>\n",
       "<style scoped>\n",
       "    .dataframe tbody tr th:only-of-type {\n",
       "        vertical-align: middle;\n",
       "    }\n",
       "\n",
       "    .dataframe tbody tr th {\n",
       "        vertical-align: top;\n",
       "    }\n",
       "\n",
       "    .dataframe thead th {\n",
       "        text-align: right;\n",
       "    }\n",
       "</style>\n",
       "<table border=\"1\" class=\"dataframe\">\n",
       "  <thead>\n",
       "    <tr style=\"text-align: right;\">\n",
       "      <th></th>\n",
       "      <th>race</th>\n",
       "      <th>age</th>\n",
       "      <th>payer_code</th>\n",
       "      <th>admission_type_id</th>\n",
       "      <th>time_in_hospital</th>\n",
       "      <th>num_lab_procedures</th>\n",
       "      <th>diag_1</th>\n",
       "      <th>num_medications</th>\n",
       "      <th>Glucose_Measured</th>\n",
       "      <th>A1Cmeasurement</th>\n",
       "      <th>insulin</th>\n",
       "      <th>change</th>\n",
       "      <th>diabetesMed</th>\n",
       "    </tr>\n",
       "  </thead>\n",
       "  <tbody>\n",
       "    <tr>\n",
       "      <th>81694</th>\n",
       "      <td>Caucasian</td>\n",
       "      <td>8</td>\n",
       "      <td>MC</td>\n",
       "      <td>3</td>\n",
       "      <td>2</td>\n",
       "      <td>39</td>\n",
       "      <td>8</td>\n",
       "      <td>8</td>\n",
       "      <td>No</td>\n",
       "      <td>Yes</td>\n",
       "      <td>Steady</td>\n",
       "      <td>No</td>\n",
       "      <td>Yes</td>\n",
       "    </tr>\n",
       "    <tr>\n",
       "      <th>9467</th>\n",
       "      <td>Caucasian</td>\n",
       "      <td>8</td>\n",
       "      <td>Unknown</td>\n",
       "      <td>5</td>\n",
       "      <td>9</td>\n",
       "      <td>27</td>\n",
       "      <td>403</td>\n",
       "      <td>24</td>\n",
       "      <td>Yes</td>\n",
       "      <td>No</td>\n",
       "      <td>Steady</td>\n",
       "      <td>No</td>\n",
       "      <td>Yes</td>\n",
       "    </tr>\n",
       "    <tr>\n",
       "      <th>21070</th>\n",
       "      <td>Caucasian</td>\n",
       "      <td>6</td>\n",
       "      <td>Unknown</td>\n",
       "      <td>1</td>\n",
       "      <td>3</td>\n",
       "      <td>41</td>\n",
       "      <td>428</td>\n",
       "      <td>9</td>\n",
       "      <td>No</td>\n",
       "      <td>No</td>\n",
       "      <td>No</td>\n",
       "      <td>Ch</td>\n",
       "      <td>Yes</td>\n",
       "    </tr>\n",
       "    <tr>\n",
       "      <th>21436</th>\n",
       "      <td>Caucasian</td>\n",
       "      <td>8</td>\n",
       "      <td>Unknown</td>\n",
       "      <td>3</td>\n",
       "      <td>3</td>\n",
       "      <td>48</td>\n",
       "      <td>427</td>\n",
       "      <td>27</td>\n",
       "      <td>No</td>\n",
       "      <td>No</td>\n",
       "      <td>No</td>\n",
       "      <td>No</td>\n",
       "      <td>No</td>\n",
       "    </tr>\n",
       "    <tr>\n",
       "      <th>2811</th>\n",
       "      <td>Caucasian</td>\n",
       "      <td>3</td>\n",
       "      <td>Unknown</td>\n",
       "      <td>1</td>\n",
       "      <td>2</td>\n",
       "      <td>45</td>\n",
       "      <td>958</td>\n",
       "      <td>12</td>\n",
       "      <td>No</td>\n",
       "      <td>No</td>\n",
       "      <td>Up</td>\n",
       "      <td>Ch</td>\n",
       "      <td>Yes</td>\n",
       "    </tr>\n",
       "    <tr>\n",
       "      <th>...</th>\n",
       "      <td>...</td>\n",
       "      <td>...</td>\n",
       "      <td>...</td>\n",
       "      <td>...</td>\n",
       "      <td>...</td>\n",
       "      <td>...</td>\n",
       "      <td>...</td>\n",
       "      <td>...</td>\n",
       "      <td>...</td>\n",
       "      <td>...</td>\n",
       "      <td>...</td>\n",
       "      <td>...</td>\n",
       "      <td>...</td>\n",
       "    </tr>\n",
       "    <tr>\n",
       "      <th>80416</th>\n",
       "      <td>Caucasian</td>\n",
       "      <td>5</td>\n",
       "      <td>MD</td>\n",
       "      <td>3</td>\n",
       "      <td>1</td>\n",
       "      <td>20</td>\n",
       "      <td>414</td>\n",
       "      <td>12</td>\n",
       "      <td>No</td>\n",
       "      <td>No</td>\n",
       "      <td>No</td>\n",
       "      <td>No</td>\n",
       "      <td>No</td>\n",
       "    </tr>\n",
       "    <tr>\n",
       "      <th>43054</th>\n",
       "      <td>AfricanAmerican</td>\n",
       "      <td>5</td>\n",
       "      <td>MC</td>\n",
       "      <td>3</td>\n",
       "      <td>3</td>\n",
       "      <td>41</td>\n",
       "      <td>414</td>\n",
       "      <td>29</td>\n",
       "      <td>No</td>\n",
       "      <td>No</td>\n",
       "      <td>No</td>\n",
       "      <td>No</td>\n",
       "      <td>No</td>\n",
       "    </tr>\n",
       "    <tr>\n",
       "      <th>83367</th>\n",
       "      <td>Caucasian</td>\n",
       "      <td>8</td>\n",
       "      <td>SP</td>\n",
       "      <td>3</td>\n",
       "      <td>2</td>\n",
       "      <td>57</td>\n",
       "      <td>410</td>\n",
       "      <td>27</td>\n",
       "      <td>No</td>\n",
       "      <td>No</td>\n",
       "      <td>Down</td>\n",
       "      <td>Ch</td>\n",
       "      <td>Yes</td>\n",
       "    </tr>\n",
       "    <tr>\n",
       "      <th>25644</th>\n",
       "      <td>Caucasian</td>\n",
       "      <td>8</td>\n",
       "      <td>MC</td>\n",
       "      <td>1</td>\n",
       "      <td>4</td>\n",
       "      <td>49</td>\n",
       "      <td>434</td>\n",
       "      <td>15</td>\n",
       "      <td>No</td>\n",
       "      <td>No</td>\n",
       "      <td>Steady</td>\n",
       "      <td>No</td>\n",
       "      <td>Yes</td>\n",
       "    </tr>\n",
       "    <tr>\n",
       "      <th>4500</th>\n",
       "      <td>AfricanAmerican</td>\n",
       "      <td>6</td>\n",
       "      <td>Unknown</td>\n",
       "      <td>1</td>\n",
       "      <td>6</td>\n",
       "      <td>40</td>\n",
       "      <td>435</td>\n",
       "      <td>15</td>\n",
       "      <td>No</td>\n",
       "      <td>No</td>\n",
       "      <td>Steady</td>\n",
       "      <td>Ch</td>\n",
       "      <td>Yes</td>\n",
       "    </tr>\n",
       "  </tbody>\n",
       "</table>\n",
       "<p>52479 rows × 13 columns</p>\n",
       "</div>"
      ],
      "text/plain": [
       "                  race age payer_code admission_type_id  time_in_hospital  \\\n",
       "81694        Caucasian   8         MC                 3                 2   \n",
       "9467         Caucasian   8    Unknown                 5                 9   \n",
       "21070        Caucasian   6    Unknown                 1                 3   \n",
       "21436        Caucasian   8    Unknown                 3                 3   \n",
       "2811         Caucasian   3    Unknown                 1                 2   \n",
       "...                ...  ..        ...               ...               ...   \n",
       "80416        Caucasian   5         MD                 3                 1   \n",
       "43054  AfricanAmerican   5         MC                 3                 3   \n",
       "83367        Caucasian   8         SP                 3                 2   \n",
       "25644        Caucasian   8         MC                 1                 4   \n",
       "4500   AfricanAmerican   6    Unknown                 1                 6   \n",
       "\n",
       "       num_lab_procedures diag_1  num_medications Glucose_Measured  \\\n",
       "81694                  39      8                8               No   \n",
       "9467                   27    403               24              Yes   \n",
       "21070                  41    428                9               No   \n",
       "21436                  48    427               27               No   \n",
       "2811                   45    958               12               No   \n",
       "...                   ...    ...              ...              ...   \n",
       "80416                  20    414               12               No   \n",
       "43054                  41    414               29               No   \n",
       "83367                  57    410               27               No   \n",
       "25644                  49    434               15               No   \n",
       "4500                   40    435               15               No   \n",
       "\n",
       "      A1Cmeasurement insulin change diabetesMed  \n",
       "81694            Yes  Steady     No         Yes  \n",
       "9467              No  Steady     No         Yes  \n",
       "21070             No      No     Ch         Yes  \n",
       "21436             No      No     No          No  \n",
       "2811              No      Up     Ch         Yes  \n",
       "...              ...     ...    ...         ...  \n",
       "80416             No      No     No          No  \n",
       "43054             No      No     No          No  \n",
       "83367             No    Down     Ch         Yes  \n",
       "25644             No  Steady     No         Yes  \n",
       "4500              No  Steady     Ch         Yes  \n",
       "\n",
       "[52479 rows x 13 columns]"
      ]
     },
     "execution_count": 110,
     "metadata": {},
     "output_type": "execute_result"
    }
   ],
   "source": [
    "X_train"
   ]
  },
  {
   "cell_type": "code",
   "execution_count": 111,
   "metadata": {},
   "outputs": [
    {
     "data": {
      "text/html": [
       "<div>\n",
       "<style scoped>\n",
       "    .dataframe tbody tr th:only-of-type {\n",
       "        vertical-align: middle;\n",
       "    }\n",
       "\n",
       "    .dataframe tbody tr th {\n",
       "        vertical-align: top;\n",
       "    }\n",
       "\n",
       "    .dataframe thead th {\n",
       "        text-align: right;\n",
       "    }\n",
       "</style>\n",
       "<table border=\"1\" class=\"dataframe\">\n",
       "  <thead>\n",
       "    <tr style=\"text-align: right;\">\n",
       "      <th></th>\n",
       "      <th>race</th>\n",
       "      <th>age</th>\n",
       "      <th>payer_code</th>\n",
       "      <th>admission_type_id</th>\n",
       "      <th>time_in_hospital</th>\n",
       "      <th>num_lab_procedures</th>\n",
       "      <th>diag_1</th>\n",
       "      <th>num_medications</th>\n",
       "      <th>Glucose_Measured</th>\n",
       "      <th>A1Cmeasurement</th>\n",
       "      <th>insulin</th>\n",
       "      <th>change</th>\n",
       "      <th>diabetesMed</th>\n",
       "    </tr>\n",
       "  </thead>\n",
       "  <tbody>\n",
       "    <tr>\n",
       "      <th>17211</th>\n",
       "      <td>Caucasian</td>\n",
       "      <td>7</td>\n",
       "      <td>Unknown</td>\n",
       "      <td>2</td>\n",
       "      <td>2</td>\n",
       "      <td>31</td>\n",
       "      <td>519</td>\n",
       "      <td>19</td>\n",
       "      <td>No</td>\n",
       "      <td>No</td>\n",
       "      <td>Down</td>\n",
       "      <td>Ch</td>\n",
       "      <td>Yes</td>\n",
       "    </tr>\n",
       "    <tr>\n",
       "      <th>38859</th>\n",
       "      <td>Caucasian</td>\n",
       "      <td>8</td>\n",
       "      <td>SP</td>\n",
       "      <td>2</td>\n",
       "      <td>6</td>\n",
       "      <td>1</td>\n",
       "      <td>250.4</td>\n",
       "      <td>7</td>\n",
       "      <td>No</td>\n",
       "      <td>No</td>\n",
       "      <td>Up</td>\n",
       "      <td>Ch</td>\n",
       "      <td>Yes</td>\n",
       "    </tr>\n",
       "    <tr>\n",
       "      <th>77091</th>\n",
       "      <td>Asian</td>\n",
       "      <td>6</td>\n",
       "      <td>UN</td>\n",
       "      <td>2</td>\n",
       "      <td>4</td>\n",
       "      <td>48</td>\n",
       "      <td>79</td>\n",
       "      <td>14</td>\n",
       "      <td>No</td>\n",
       "      <td>Yes</td>\n",
       "      <td>No</td>\n",
       "      <td>No</td>\n",
       "      <td>No</td>\n",
       "    </tr>\n",
       "    <tr>\n",
       "      <th>1504</th>\n",
       "      <td>Caucasian</td>\n",
       "      <td>1</td>\n",
       "      <td>Unknown</td>\n",
       "      <td>1</td>\n",
       "      <td>1</td>\n",
       "      <td>46</td>\n",
       "      <td>79</td>\n",
       "      <td>3</td>\n",
       "      <td>No</td>\n",
       "      <td>No</td>\n",
       "      <td>No</td>\n",
       "      <td>No</td>\n",
       "      <td>No</td>\n",
       "    </tr>\n",
       "    <tr>\n",
       "      <th>53765</th>\n",
       "      <td>Caucasian</td>\n",
       "      <td>10</td>\n",
       "      <td>MC</td>\n",
       "      <td>1</td>\n",
       "      <td>8</td>\n",
       "      <td>63</td>\n",
       "      <td>250.8</td>\n",
       "      <td>18</td>\n",
       "      <td>No</td>\n",
       "      <td>No</td>\n",
       "      <td>Steady</td>\n",
       "      <td>No</td>\n",
       "      <td>Yes</td>\n",
       "    </tr>\n",
       "    <tr>\n",
       "      <th>...</th>\n",
       "      <td>...</td>\n",
       "      <td>...</td>\n",
       "      <td>...</td>\n",
       "      <td>...</td>\n",
       "      <td>...</td>\n",
       "      <td>...</td>\n",
       "      <td>...</td>\n",
       "      <td>...</td>\n",
       "      <td>...</td>\n",
       "      <td>...</td>\n",
       "      <td>...</td>\n",
       "      <td>...</td>\n",
       "      <td>...</td>\n",
       "    </tr>\n",
       "    <tr>\n",
       "      <th>54440</th>\n",
       "      <td>AfricanAmerican</td>\n",
       "      <td>4</td>\n",
       "      <td>MD</td>\n",
       "      <td>5</td>\n",
       "      <td>2</td>\n",
       "      <td>43</td>\n",
       "      <td>577</td>\n",
       "      <td>9</td>\n",
       "      <td>No</td>\n",
       "      <td>Yes</td>\n",
       "      <td>Up</td>\n",
       "      <td>Ch</td>\n",
       "      <td>Yes</td>\n",
       "    </tr>\n",
       "    <tr>\n",
       "      <th>53365</th>\n",
       "      <td>Caucasian</td>\n",
       "      <td>7</td>\n",
       "      <td>Unknown</td>\n",
       "      <td>2</td>\n",
       "      <td>2</td>\n",
       "      <td>41</td>\n",
       "      <td>486</td>\n",
       "      <td>13</td>\n",
       "      <td>No</td>\n",
       "      <td>No</td>\n",
       "      <td>No</td>\n",
       "      <td>Ch</td>\n",
       "      <td>Yes</td>\n",
       "    </tr>\n",
       "    <tr>\n",
       "      <th>23788</th>\n",
       "      <td>AfricanAmerican</td>\n",
       "      <td>7</td>\n",
       "      <td>Unknown</td>\n",
       "      <td>1</td>\n",
       "      <td>5</td>\n",
       "      <td>66</td>\n",
       "      <td>250.11</td>\n",
       "      <td>12</td>\n",
       "      <td>No</td>\n",
       "      <td>No</td>\n",
       "      <td>Steady</td>\n",
       "      <td>No</td>\n",
       "      <td>Yes</td>\n",
       "    </tr>\n",
       "    <tr>\n",
       "      <th>54824</th>\n",
       "      <td>Caucasian</td>\n",
       "      <td>8</td>\n",
       "      <td>MC</td>\n",
       "      <td>3</td>\n",
       "      <td>7</td>\n",
       "      <td>50</td>\n",
       "      <td>250.82</td>\n",
       "      <td>25</td>\n",
       "      <td>No</td>\n",
       "      <td>No</td>\n",
       "      <td>No</td>\n",
       "      <td>No</td>\n",
       "      <td>No</td>\n",
       "    </tr>\n",
       "    <tr>\n",
       "      <th>53176</th>\n",
       "      <td>AfricanAmerican</td>\n",
       "      <td>9</td>\n",
       "      <td>Unknown</td>\n",
       "      <td>2</td>\n",
       "      <td>6</td>\n",
       "      <td>50</td>\n",
       "      <td>437</td>\n",
       "      <td>11</td>\n",
       "      <td>No</td>\n",
       "      <td>No</td>\n",
       "      <td>No</td>\n",
       "      <td>No</td>\n",
       "      <td>No</td>\n",
       "    </tr>\n",
       "  </tbody>\n",
       "</table>\n",
       "<p>17494 rows × 13 columns</p>\n",
       "</div>"
      ],
      "text/plain": [
       "                  race age payer_code admission_type_id  time_in_hospital  \\\n",
       "17211        Caucasian   7    Unknown                 2                 2   \n",
       "38859        Caucasian   8         SP                 2                 6   \n",
       "77091            Asian   6         UN                 2                 4   \n",
       "1504         Caucasian   1    Unknown                 1                 1   \n",
       "53765        Caucasian  10         MC                 1                 8   \n",
       "...                ...  ..        ...               ...               ...   \n",
       "54440  AfricanAmerican   4         MD                 5                 2   \n",
       "53365        Caucasian   7    Unknown                 2                 2   \n",
       "23788  AfricanAmerican   7    Unknown                 1                 5   \n",
       "54824        Caucasian   8         MC                 3                 7   \n",
       "53176  AfricanAmerican   9    Unknown                 2                 6   \n",
       "\n",
       "       num_lab_procedures  diag_1  num_medications Glucose_Measured  \\\n",
       "17211                  31     519               19               No   \n",
       "38859                   1   250.4                7               No   \n",
       "77091                  48      79               14               No   \n",
       "1504                   46      79                3               No   \n",
       "53765                  63   250.8               18               No   \n",
       "...                   ...     ...              ...              ...   \n",
       "54440                  43     577                9               No   \n",
       "53365                  41     486               13               No   \n",
       "23788                  66  250.11               12               No   \n",
       "54824                  50  250.82               25               No   \n",
       "53176                  50     437               11               No   \n",
       "\n",
       "      A1Cmeasurement insulin change diabetesMed  \n",
       "17211             No    Down     Ch         Yes  \n",
       "38859             No      Up     Ch         Yes  \n",
       "77091            Yes      No     No          No  \n",
       "1504              No      No     No          No  \n",
       "53765             No  Steady     No         Yes  \n",
       "...              ...     ...    ...         ...  \n",
       "54440            Yes      Up     Ch         Yes  \n",
       "53365             No      No     Ch         Yes  \n",
       "23788             No  Steady     No         Yes  \n",
       "54824             No      No     No          No  \n",
       "53176             No      No     No          No  \n",
       "\n",
       "[17494 rows x 13 columns]"
      ]
     },
     "execution_count": 111,
     "metadata": {},
     "output_type": "execute_result"
    }
   ],
   "source": [
    "X_test"
   ]
  },
  {
   "cell_type": "markdown",
   "metadata": {},
   "source": [
    "## Encoding categoricals with LeaveOneOut Encoder\n",
    "\n",
    "We use a leave-one-out encoder as it creates a single column for each categorical variable instead of creating a column for each level of the categorical variable like one-hot-encoding. This makes interpreting the impact of categorical variables with feature impact easier. "
   ]
  },
  {
   "cell_type": "code",
   "execution_count": 112,
   "metadata": {},
   "outputs": [
    {
     "name": "stdout",
     "output_type": "stream",
     "text": [
      "Requirement already satisfied: category_encoders in /opt/anaconda3/envs/diabetes_env/lib/python3.12/site-packages (2.6.4)\n",
      "Requirement already satisfied: numpy>=1.14.0 in /opt/anaconda3/envs/diabetes_env/lib/python3.12/site-packages (from category_encoders) (1.26.4)\n",
      "Requirement already satisfied: scikit-learn>=0.20.0 in /opt/anaconda3/envs/diabetes_env/lib/python3.12/site-packages (from category_encoders) (1.5.1)\n",
      "Requirement already satisfied: scipy>=1.0.0 in /opt/anaconda3/envs/diabetes_env/lib/python3.12/site-packages (from category_encoders) (1.13.1)\n",
      "Requirement already satisfied: statsmodels>=0.9.0 in /opt/anaconda3/envs/diabetes_env/lib/python3.12/site-packages (from category_encoders) (0.14.2)\n",
      "Requirement already satisfied: pandas>=1.0.5 in /opt/anaconda3/envs/diabetes_env/lib/python3.12/site-packages (from category_encoders) (2.2.2)\n",
      "Requirement already satisfied: patsy>=0.5.1 in /opt/anaconda3/envs/diabetes_env/lib/python3.12/site-packages (from category_encoders) (0.5.6)\n",
      "Requirement already satisfied: python-dateutil>=2.8.2 in /opt/anaconda3/envs/diabetes_env/lib/python3.12/site-packages (from pandas>=1.0.5->category_encoders) (2.9.0.post0)\n",
      "Requirement already satisfied: pytz>=2020.1 in /opt/anaconda3/envs/diabetes_env/lib/python3.12/site-packages (from pandas>=1.0.5->category_encoders) (2024.1)\n",
      "Requirement already satisfied: tzdata>=2022.7 in /opt/anaconda3/envs/diabetes_env/lib/python3.12/site-packages (from pandas>=1.0.5->category_encoders) (2023.3)\n",
      "Requirement already satisfied: six in /opt/anaconda3/envs/diabetes_env/lib/python3.12/site-packages (from patsy>=0.5.1->category_encoders) (1.16.0)\n",
      "Requirement already satisfied: joblib>=1.2.0 in /opt/anaconda3/envs/diabetes_env/lib/python3.12/site-packages (from scikit-learn>=0.20.0->category_encoders) (1.4.2)\n",
      "Requirement already satisfied: threadpoolctl>=3.1.0 in /opt/anaconda3/envs/diabetes_env/lib/python3.12/site-packages (from scikit-learn>=0.20.0->category_encoders) (3.5.0)\n",
      "Requirement already satisfied: packaging>=21.3 in /opt/anaconda3/envs/diabetes_env/lib/python3.12/site-packages (from statsmodels>=0.9.0->category_encoders) (24.1)\n",
      "Note: you may need to restart the kernel to use updated packages.\n"
     ]
    }
   ],
   "source": [
    "pip install category_encoders\n"
   ]
  },
  {
   "cell_type": "code",
   "execution_count": 113,
   "metadata": {},
   "outputs": [
    {
     "name": "stdout",
     "output_type": "stream",
     "text": [
      "<class 'pandas.core.frame.DataFrame'>\n",
      "Index: 52479 entries, 81694 to 4500\n",
      "Data columns (total 13 columns):\n",
      " #   Column              Non-Null Count  Dtype \n",
      "---  ------              --------------  ----- \n",
      " 0   race                52479 non-null  object\n",
      " 1   age                 52479 non-null  object\n",
      " 2   payer_code          52479 non-null  object\n",
      " 3   admission_type_id   52479 non-null  object\n",
      " 4   time_in_hospital    52479 non-null  int64 \n",
      " 5   num_lab_procedures  52479 non-null  int64 \n",
      " 6   diag_1              52479 non-null  object\n",
      " 7   num_medications     52479 non-null  int64 \n",
      " 8   Glucose_Measured    52479 non-null  object\n",
      " 9   A1Cmeasurement      52479 non-null  object\n",
      " 10  insulin             52479 non-null  object\n",
      " 11  change              52479 non-null  object\n",
      " 12  diabetesMed         52479 non-null  object\n",
      "dtypes: int64(3), object(10)\n",
      "memory usage: 5.6+ MB\n"
     ]
    }
   ],
   "source": [
    "X_train.info()"
   ]
  },
  {
   "cell_type": "code",
   "execution_count": 114,
   "metadata": {},
   "outputs": [
    {
     "data": {
      "text/plain": [
       "readmitted\n",
       "Otherwise    47797\n",
       "within30      4682\n",
       "Name: count, dtype: int64"
      ]
     },
     "execution_count": 114,
     "metadata": {},
     "output_type": "execute_result"
    }
   ],
   "source": [
    "y_train.value_counts()"
   ]
  },
  {
   "cell_type": "code",
   "execution_count": 115,
   "metadata": {},
   "outputs": [
    {
     "data": {
      "text/plain": [
       "81694    Otherwise\n",
       "9467     Otherwise\n",
       "21070    Otherwise\n",
       "21436    Otherwise\n",
       "2811     Otherwise\n",
       "           ...    \n",
       "80416    Otherwise\n",
       "43054    Otherwise\n",
       "83367    Otherwise\n",
       "25644    Otherwise\n",
       "4500     Otherwise\n",
       "Name: readmitted, Length: 52479, dtype: object"
      ]
     },
     "execution_count": 115,
     "metadata": {},
     "output_type": "execute_result"
    }
   ],
   "source": [
    "y_train = y_train.replace(to_replace='<30', value='within30')\n",
    "y_train"
   ]
  },
  {
   "cell_type": "code",
   "execution_count": 118,
   "metadata": {},
   "outputs": [],
   "source": [
    "y_train= y_train.astype('str')"
   ]
  },
  {
   "cell_type": "code",
   "execution_count": 121,
   "metadata": {},
   "outputs": [
    {
     "data": {
      "text/plain": [
       "pandas.core.series.Series"
      ]
     },
     "execution_count": 121,
     "metadata": {},
     "output_type": "execute_result"
    }
   ],
   "source": [
    "y_train = pd.Series(y_train, name='target')  # Use 'target' or your actual target name\n",
    "type(y_train)"
   ]
  },
  {
   "cell_type": "code",
   "execution_count": 122,
   "metadata": {},
   "outputs": [
    {
     "data": {
      "text/plain": [
       "81694    Otherwise\n",
       "9467     Otherwise\n",
       "21070    Otherwise\n",
       "21436    Otherwise\n",
       "2811     Otherwise\n",
       "           ...    \n",
       "80416    Otherwise\n",
       "43054    Otherwise\n",
       "83367    Otherwise\n",
       "25644    Otherwise\n",
       "4500     Otherwise\n",
       "Name: target, Length: 52479, dtype: object"
      ]
     },
     "execution_count": 122,
     "metadata": {},
     "output_type": "execute_result"
    }
   ],
   "source": [
    "y_train"
   ]
  },
  {
   "cell_type": "code",
   "execution_count": 123,
   "metadata": {},
   "outputs": [],
   "source": [
    "import category_encoders as ce\n",
    "\n",
    "encoder = ce.LeaveOneOutEncoder(return_df=True)\n",
    "\n"
   ]
  },
  {
   "cell_type": "code",
   "execution_count": 124,
   "metadata": {},
   "outputs": [
    {
     "ename": "AttributeError",
     "evalue": "'numpy.ndarray' object has no attribute 'groupby'",
     "output_type": "error",
     "traceback": [
      "\u001b[0;31m---------------------------------------------------------------------------\u001b[0m",
      "\u001b[0;31mAttributeError\u001b[0m                            Traceback (most recent call last)",
      "Cell \u001b[0;32mIn[124], line 1\u001b[0m\n\u001b[0;32m----> 1\u001b[0m X_train_loo \u001b[38;5;241m=\u001b[39m \u001b[43mencoder\u001b[49m\u001b[38;5;241;43m.\u001b[39;49m\u001b[43mfit_transform\u001b[49m\u001b[43m(\u001b[49m\u001b[43mX_train\u001b[49m\u001b[43m,\u001b[49m\u001b[43my_train\u001b[49m\u001b[43m)\u001b[49m\n",
      "File \u001b[0;32m/opt/anaconda3/envs/diabetes_env/lib/python3.12/site-packages/sklearn/utils/_set_output.py:313\u001b[0m, in \u001b[0;36m_wrap_method_output.<locals>.wrapped\u001b[0;34m(self, X, *args, **kwargs)\u001b[0m\n\u001b[1;32m    311\u001b[0m \u001b[38;5;129m@wraps\u001b[39m(f)\n\u001b[1;32m    312\u001b[0m \u001b[38;5;28;01mdef\u001b[39;00m \u001b[38;5;21mwrapped\u001b[39m(\u001b[38;5;28mself\u001b[39m, X, \u001b[38;5;241m*\u001b[39margs, \u001b[38;5;241m*\u001b[39m\u001b[38;5;241m*\u001b[39mkwargs):\n\u001b[0;32m--> 313\u001b[0m     data_to_wrap \u001b[38;5;241m=\u001b[39m \u001b[43mf\u001b[49m\u001b[43m(\u001b[49m\u001b[38;5;28;43mself\u001b[39;49m\u001b[43m,\u001b[49m\u001b[43m \u001b[49m\u001b[43mX\u001b[49m\u001b[43m,\u001b[49m\u001b[43m \u001b[49m\u001b[38;5;241;43m*\u001b[39;49m\u001b[43margs\u001b[49m\u001b[43m,\u001b[49m\u001b[43m \u001b[49m\u001b[38;5;241;43m*\u001b[39;49m\u001b[38;5;241;43m*\u001b[39;49m\u001b[43mkwargs\u001b[49m\u001b[43m)\u001b[49m\n\u001b[1;32m    314\u001b[0m     \u001b[38;5;28;01mif\u001b[39;00m \u001b[38;5;28misinstance\u001b[39m(data_to_wrap, \u001b[38;5;28mtuple\u001b[39m):\n\u001b[1;32m    315\u001b[0m         \u001b[38;5;66;03m# only wrap the first output for cross decomposition\u001b[39;00m\n\u001b[1;32m    316\u001b[0m         return_tuple \u001b[38;5;241m=\u001b[39m (\n\u001b[1;32m    317\u001b[0m             _wrap_data_with_container(method, data_to_wrap[\u001b[38;5;241m0\u001b[39m], X, \u001b[38;5;28mself\u001b[39m),\n\u001b[1;32m    318\u001b[0m             \u001b[38;5;241m*\u001b[39mdata_to_wrap[\u001b[38;5;241m1\u001b[39m:],\n\u001b[1;32m    319\u001b[0m         )\n",
      "File \u001b[0;32m/opt/anaconda3/envs/diabetes_env/lib/python3.12/site-packages/category_encoders/utils.py:474\u001b[0m, in \u001b[0;36mSupervisedTransformerMixin.fit_transform\u001b[0;34m(self, X, y, **fit_params)\u001b[0m\n\u001b[1;32m    472\u001b[0m \u001b[38;5;28;01mif\u001b[39;00m y \u001b[38;5;129;01mis\u001b[39;00m \u001b[38;5;28;01mNone\u001b[39;00m:\n\u001b[1;32m    473\u001b[0m     \u001b[38;5;28;01mraise\u001b[39;00m \u001b[38;5;167;01mTypeError\u001b[39;00m(\u001b[38;5;124m'\u001b[39m\u001b[38;5;124mfit_transform() missing argument: \u001b[39m\u001b[38;5;124m'\u001b[39m\u001b[38;5;124m'\u001b[39m\u001b[38;5;124my\u001b[39m\u001b[38;5;124m'\u001b[39m\u001b[38;5;124m'\u001b[39m\u001b[38;5;124m'\u001b[39m)\n\u001b[0;32m--> 474\u001b[0m \u001b[38;5;28;01mreturn\u001b[39;00m \u001b[38;5;28;43mself\u001b[39;49m\u001b[38;5;241;43m.\u001b[39;49m\u001b[43mfit\u001b[49m\u001b[43m(\u001b[49m\u001b[43mX\u001b[49m\u001b[43m,\u001b[49m\u001b[43m \u001b[49m\u001b[43my\u001b[49m\u001b[43m,\u001b[49m\u001b[43m \u001b[49m\u001b[38;5;241;43m*\u001b[39;49m\u001b[38;5;241;43m*\u001b[39;49m\u001b[43mfit_params\u001b[49m\u001b[43m)\u001b[49m\u001b[38;5;241m.\u001b[39mtransform(X, y)\n",
      "File \u001b[0;32m/opt/anaconda3/envs/diabetes_env/lib/python3.12/site-packages/category_encoders/utils.py:320\u001b[0m, in \u001b[0;36mBaseEncoder.fit\u001b[0;34m(self, X, y, **kwargs)\u001b[0m\n\u001b[1;32m    317\u001b[0m     \u001b[38;5;28;01mif\u001b[39;00m X[\u001b[38;5;28mself\u001b[39m\u001b[38;5;241m.\u001b[39mcols]\u001b[38;5;241m.\u001b[39misna()\u001b[38;5;241m.\u001b[39many()\u001b[38;5;241m.\u001b[39many():\n\u001b[1;32m    318\u001b[0m         \u001b[38;5;28;01mraise\u001b[39;00m \u001b[38;5;167;01mValueError\u001b[39;00m(\u001b[38;5;124m'\u001b[39m\u001b[38;5;124mColumns to be encoded can not contain null\u001b[39m\u001b[38;5;124m'\u001b[39m)\n\u001b[0;32m--> 320\u001b[0m \u001b[38;5;28;43mself\u001b[39;49m\u001b[38;5;241;43m.\u001b[39;49m\u001b[43m_fit\u001b[49m\u001b[43m(\u001b[49m\u001b[43mX\u001b[49m\u001b[43m,\u001b[49m\u001b[43m \u001b[49m\u001b[43my\u001b[49m\u001b[43m,\u001b[49m\u001b[43m \u001b[49m\u001b[38;5;241;43m*\u001b[39;49m\u001b[38;5;241;43m*\u001b[39;49m\u001b[43mkwargs\u001b[49m\u001b[43m)\u001b[49m\n\u001b[1;32m    322\u001b[0m \u001b[38;5;66;03m# for finding invariant columns transform without y (as is done on the test set)\u001b[39;00m\n\u001b[1;32m    323\u001b[0m \u001b[38;5;28mself\u001b[39m\u001b[38;5;241m.\u001b[39mfeature_names_out_ \u001b[38;5;241m=\u001b[39m \u001b[38;5;28;01mNone\u001b[39;00m  \u001b[38;5;66;03m# Issue#437\u001b[39;00m\n",
      "File \u001b[0;32m/opt/anaconda3/envs/diabetes_env/lib/python3.12/site-packages/category_encoders/leave_one_out.py:88\u001b[0m, in \u001b[0;36mLeaveOneOutEncoder._fit\u001b[0;34m(self, X, y, **kwargs)\u001b[0m\n\u001b[1;32m     86\u001b[0m \u001b[38;5;28;01mdef\u001b[39;00m \u001b[38;5;21m_fit\u001b[39m(\u001b[38;5;28mself\u001b[39m, X, y, \u001b[38;5;241m*\u001b[39m\u001b[38;5;241m*\u001b[39mkwargs):\n\u001b[1;32m     87\u001b[0m     y \u001b[38;5;241m=\u001b[39m y\u001b[38;5;241m.\u001b[39mastype(\u001b[38;5;28mfloat\u001b[39m)\n\u001b[0;32m---> 88\u001b[0m     categories \u001b[38;5;241m=\u001b[39m \u001b[38;5;28;43mself\u001b[39;49m\u001b[38;5;241;43m.\u001b[39;49m\u001b[43mfit_leave_one_out\u001b[49m\u001b[43m(\u001b[49m\n\u001b[1;32m     89\u001b[0m \u001b[43m        \u001b[49m\u001b[43mX\u001b[49m\u001b[43m,\u001b[49m\u001b[43m \u001b[49m\u001b[43my\u001b[49m\u001b[43m,\u001b[49m\n\u001b[1;32m     90\u001b[0m \u001b[43m        \u001b[49m\u001b[43mcols\u001b[49m\u001b[38;5;241;43m=\u001b[39;49m\u001b[38;5;28;43mself\u001b[39;49m\u001b[38;5;241;43m.\u001b[39;49m\u001b[43mcols\u001b[49m\n\u001b[1;32m     91\u001b[0m \u001b[43m    \u001b[49m\u001b[43m)\u001b[49m\n\u001b[1;32m     92\u001b[0m     \u001b[38;5;28mself\u001b[39m\u001b[38;5;241m.\u001b[39mmapping \u001b[38;5;241m=\u001b[39m categories\n",
      "File \u001b[0;32m/opt/anaconda3/envs/diabetes_env/lib/python3.12/site-packages/category_encoders/leave_one_out.py:117\u001b[0m, in \u001b[0;36mLeaveOneOutEncoder.fit_leave_one_out\u001b[0;34m(self, X_in, y, cols)\u001b[0m\n\u001b[1;32m    113\u001b[0m     cols \u001b[38;5;241m=\u001b[39m X\u001b[38;5;241m.\u001b[39mcolumns\n\u001b[1;32m    115\u001b[0m \u001b[38;5;28mself\u001b[39m\u001b[38;5;241m.\u001b[39m_mean \u001b[38;5;241m=\u001b[39m y\u001b[38;5;241m.\u001b[39mmean()\n\u001b[0;32m--> 117\u001b[0m \u001b[38;5;28;01mreturn\u001b[39;00m {col: \u001b[38;5;28;43mself\u001b[39;49m\u001b[38;5;241;43m.\u001b[39;49m\u001b[43mfit_column_map\u001b[49m\u001b[43m(\u001b[49m\u001b[43mX\u001b[49m\u001b[43m[\u001b[49m\u001b[43mcol\u001b[49m\u001b[43m]\u001b[49m\u001b[43m,\u001b[49m\u001b[43m \u001b[49m\u001b[43my\u001b[49m\u001b[43m)\u001b[49m \u001b[38;5;28;01mfor\u001b[39;00m col \u001b[38;5;129;01min\u001b[39;00m cols}\n",
      "File \u001b[0;32m/opt/anaconda3/envs/diabetes_env/lib/python3.12/site-packages/category_encoders/leave_one_out.py:130\u001b[0m, in \u001b[0;36mLeaveOneOutEncoder.fit_column_map\u001b[0;34m(self, series, y)\u001b[0m\n\u001b[1;32m    126\u001b[0m categories \u001b[38;5;241m=\u001b[39m np\u001b[38;5;241m.\u001b[39mappend(categories, np\u001b[38;5;241m.\u001b[39mnan)\n\u001b[1;32m    128\u001b[0m return_map \u001b[38;5;241m=\u001b[39m pd\u001b[38;5;241m.\u001b[39mSeries({code: category \u001b[38;5;28;01mfor\u001b[39;00m code, category \u001b[38;5;129;01min\u001b[39;00m \u001b[38;5;28menumerate\u001b[39m(categories)})\n\u001b[0;32m--> 130\u001b[0m result \u001b[38;5;241m=\u001b[39m \u001b[43my\u001b[49m\u001b[38;5;241;43m.\u001b[39;49m\u001b[43mgroupby\u001b[49m(codes)\u001b[38;5;241m.\u001b[39magg([\u001b[38;5;124m'\u001b[39m\u001b[38;5;124msum\u001b[39m\u001b[38;5;124m'\u001b[39m, \u001b[38;5;124m'\u001b[39m\u001b[38;5;124mcount\u001b[39m\u001b[38;5;124m'\u001b[39m])\n\u001b[1;32m    131\u001b[0m \u001b[38;5;28;01mreturn\u001b[39;00m result\u001b[38;5;241m.\u001b[39mrename(return_map)\n",
      "\u001b[0;31mAttributeError\u001b[0m: 'numpy.ndarray' object has no attribute 'groupby'"
     ]
    }
   ],
   "source": [
    "X_train_loo = encoder.fit_transform(X_train,y_train)"
   ]
  },
  {
   "cell_type": "code",
   "execution_count": 26,
   "metadata": {},
   "outputs": [],
   "source": [
    "#Function that separates numeric variables from categoricals\n",
    "'''from sklearn.preprocessing import OneHotEncoder, StandardScaler\n",
    "\n",
    "\n",
    "#Take in a train and test data\n",
    "def transform_features(X_train,X_test):\n",
    "    \n",
    "    #Separate numeric and categorical columns for X_train\n",
    "    numerics_train_df = X_train.select_dtypes(include=['int64', 'float64'])\n",
    "    categories_train_df = X_train.select_dtypes(include='object')\n",
    "    \n",
    "    #Separate numeric and categorical columns for X_test\n",
    "    numerics_test_df = X_test.select_dtypes(include=['int64', 'float64'])\n",
    "    categories_test_df = X_test.select_dtypes(include='object')\n",
    "    \n",
    "    #Correlation matrix of X_train numeric columns\n",
    "    corr_matrix = numerics_train_df.corr()\n",
    "\n",
    "    #Scale numeric columns using StandardScaler for both X_train and X_test\n",
    "    ss = StandardScaler()\n",
    "    scaled_numerics_train = pd.DataFrame(ss.fit_transform(numerics_train_df), columns=numerics_train_df.columns, index=numerics_train_df.index)\n",
    "    scaled_numerics_test = pd.DataFrame(ss.transform(numerics_test_df), columns=numerics_test_df.columns, index=numerics_test_df.index)\n",
    "    \n",
    "    #Initialize and fit OneHotEncoder on X_train categorical columns\n",
    "    ohe = OneHotEncoder(drop='first', sparse_output=False)\n",
    "    encoded_train_array = ohe.fit_transform(categories_train_df)\n",
    "    \n",
    "    #Create encoded DataFrame for X_train with prefixed column names\n",
    "    encoded_train_df = pd.DataFrame(encoded_train_array, \n",
    "                                    columns=[f'{col}_{category}' for col, categories in zip(categories_train_df.columns, ohe.categories_) for category in categories[1:]],\n",
    "                                    index=categories_train_df.index)\n",
    "    \n",
    "    #Transform X_test categorical columns using the fitted encoder\n",
    "    encoded_test_array = ohe.transform(categories_test_df)\n",
    "    encoded_test_df = pd.DataFrame(encoded_test_array, \n",
    "                                   columns=encoded_train_df.columns,  # Ensures column alignment with X_train\n",
    "                                   index=categories_test_df.index)\n",
    "\n",
    "    #Concatenate scaled numerics and encoded categories for X_train and X_test\n",
    "    X_train_transformed = pd.concat([scaled_numerics_train, encoded_train_df], axis=1)\n",
    "    X_test_transformed = pd.concat([scaled_numerics_test, encoded_test_df], axis=1)\n",
    "    \n",
    "    return corr_matrix, X_train_transformed, X_test_transformed'''\n",
    "\n",
    "    "
   ]
  },
  {
   "cell_type": "code",
   "execution_count": null,
   "metadata": {},
   "outputs": [],
   "source": []
  },
  {
   "cell_type": "code",
   "execution_count": 28,
   "metadata": {},
   "outputs": [],
   "source": [
    "#simplified helper function, only for x_train\n",
    "'''import pandas as pd\n",
    "from sklearn.preprocessing import StandardScaler, OneHotEncoder\n",
    "\n",
    "def transform_features(df):\n",
    "    # Separate numeric and categorical columns\n",
    "    numerics_df = df.select_dtypes(include=['int64', 'float64'])\n",
    "    categories_df = df.select_dtypes(exclude=['int64', 'float64'])\n",
    "    \n",
    "    # Correlation matrix of numeric columns\n",
    "    corr_matrix = numerics_df.corr()\n",
    "\n",
    "    # Scale numeric columns using StandardScaler\n",
    "    ss = StandardScaler()\n",
    "    scaled_numerics = pd.DataFrame(ss.fit_transform(numerics_df), columns=numerics_df.columns, index=numerics_df.index)\n",
    "    \n",
    "    # Initialize OneHotEncoder\n",
    "    ohe = OneHotEncoder(drop='first', sparse_output=False)\n",
    "    encoded_columns = []\n",
    "    \n",
    "    # Iterate over categorical columns and one-hot encode with unique prefixes\n",
    "    for col in categories_df.columns:\n",
    "        # Create a new DataFrame for the encoded column(s)\n",
    "        encoded_col = pd.DataFrame(ohe.fit_transform(categories_df[[col]]), \n",
    "                                   columns=[f'{col}_{category}' for category in ohe.categories_[0]], \n",
    "                                   index=categories_df.index)\n",
    "        # Append the new encoded columns to the list\n",
    "        encoded_columns.append(encoded_col)\n",
    "\n",
    "    # Concatenate all encoded columns into a single DataFrame\n",
    "    encoded_df = pd.concat(encoded_columns, axis=1)\n",
    "\n",
    "    # Concatenate the scaled numeric features and the encoded categorical features\n",
    "    X_train_transformed = pd.concat([scaled_numerics, encoded_df], axis=1)\n",
    "    \n",
    "    return corr_matrix, X_train_transformed\n",
    "\n",
    "'''"
   ]
  }
 ],
 "metadata": {
  "kernelspec": {
   "display_name": "diabetes_env",
   "language": "python",
   "name": "python3"
  },
  "language_info": {
   "codemirror_mode": {
    "name": "ipython",
    "version": 3
   },
   "file_extension": ".py",
   "mimetype": "text/x-python",
   "name": "python",
   "nbconvert_exporter": "python",
   "pygments_lexer": "ipython3",
   "version": "3.12.7"
  }
 },
 "nbformat": 4,
 "nbformat_minor": 2
}
